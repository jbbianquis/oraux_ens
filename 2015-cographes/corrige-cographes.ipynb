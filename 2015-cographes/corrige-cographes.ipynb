{
 "cells": [
  {
   "cell_type": "code",
   "execution_count": 1,
   "metadata": {},
   "outputs": [
    {
     "data": {
      "text/plain": [
       "val u0_test : int = 42\n"
      ]
     },
     "execution_count": 1,
     "metadata": {},
     "output_type": "execute_result"
    },
    {
     "data": {
      "text/plain": [
       "val u0_perso : int = 69\n"
      ]
     },
     "execution_count": 1,
     "metadata": {},
     "output_type": "execute_result"
    },
    {
     "data": {
      "text/plain": [
       "val m : int = 1048573\n"
      ]
     },
     "execution_count": 1,
     "metadata": {},
     "output_type": "execute_result"
    },
    {
     "data": {
      "text/plain": [
       "val tab_u : int -> int array = <fun>\n"
      ]
     },
     "execution_count": 1,
     "metadata": {},
     "output_type": "execute_result"
    },
    {
     "data": {
      "text/plain": [
       "val t_test : int array =\n",
       "  [|42; 42924; 876835; 644028; 741345; 584884; 64838; 204337; 166387; 178688;\n",
       "    167434; 200149; 80543; 526252; 960168; 875941; 778933; 202619; 507737;\n",
       "    912152; 37947; 1033206; 23521; 969856; 291347; 1010475; 909618; 593918;\n",
       "    909002; 1012939; 282107; 1004352; 943350; 465113; 341917; 264365; 697769;\n",
       "    90278; 1038265; 999527; 206492; 271651; 804050; 706441; 564478; 181366;\n",
       "    807204; 784110; 250648; 310444; 604722; 416387; 875449; 276109; 117261;\n",
       "    303420; 766205; 826052; 123879; 775578; 968101; 594883; 846659; 212773;\n",
       "    399395; 286793; 550579; 656610; 1017273; 517163; 59794; 292234; 868416;\n",
       "    428394; 563727; 462417; 732324; 802579; 251652; 287959; 693658; 83128;\n",
       "    22403; 875833; 668557; 644231; 948811; 803390; 31921; 117499; 546656;\n",
       "    841596; 281252; 130542; 245153; 985992; 5171; 41897; 875814; 649139;\n",
       "    721922; 657465; 842510; 166787; 587488; 628980; 42311; 250349; 4866;\n",
       "    778760; 25813; 166561; 356516; 504521; 771119; 605295; 1001993; 629598;\n",
       "    673907; 869066; 44121; 3023; 992360; 221829; 217470; 1005437; 1003647;\n",
       "    222840; 202139; 17177; 777726; 17638; 200295; 229755; 977831; 53213;\n",
       "    906463; 515227; 178348; 868527; 541836; 109848; 67345; 669345; 400994;\n",
       "    872398; 303706; 9924; 705171; 315111; 131531; 207338; 87690; 490475;\n",
       "    47556; 367874; 578094; 465469; 705749; 905827; 913808; 681806; 553260;\n",
       "    250873; 540394; 733270; 720818; 577750; 113901; 15219; 873796; 683889;\n",
       "    584940; 122070; 1023926; 1025091; 118575; 597755; 636124; 3468; 398577;\n",
       "    499370; 749662; 696274; 659534; 859882; 95230; 856344; 673686; 643204;\n",
       "    947790; 808501; 12498; 190080; 275755; 804046; 702353; 580834; 120030;\n",
       "    1036192; 978067; 294405; 990032; 988332; 299505; 959367; 57319; 908503;\n",
       "    502961; 225372; 692697; 149559; 806213; 819881; 108555; 843045; 713557;\n",
       "    497019; 444086; 872356; 260782; 181662; 61143; 622339; 595220; 142500;\n",
       "    931926; 324088; 917441; 200440; 377945; 384926; 179497; 994232; 37867;\n",
       "    951446; 350641; 791709; 676815; 695323; 736185; 554229; 192618; 772445;\n",
       "    911894; 822844; 1039595; 261641; 10987; 742984; 162796; 702978; 171011;\n",
       "    710124; 134212; 850174; 659384; 706582; 708580; 653390; 872152; 52294;\n",
       "    1015818; 78726; 766424; 1297; 276961; 988005; 1013884; 199324; 285966;\n",
       "    753958; 892494; 918931; 674647; 576773; 163980; 864453; 572500; 1039839;\n",
       "    511009; 61844; 290188; 874550; 405904; 647553; 149603; 851181; 639965;\n",
       "    783251; 421323; 677176; 15692; 308629; 846938; 497911; 307137; 370687;\n",
       "    307261; ...|]\n"
      ]
     },
     "execution_count": 1,
     "metadata": {},
     "output_type": "execute_result"
    },
    {
     "data": {
      "text/plain": [
       "val t_perso : int array =\n",
       "  [|69; 70518; 766432; 9473; 244249; 62104; 555908; 859983; 198452; 443355;\n",
       "    125274; 104122; 506811; 1014353; 678642; 465371; 605593; 257976; 459649;\n",
       "    574; 586628; 798633; 413132; 694558; 1002928; 536595; 1044984; 526334;\n",
       "    1043972; 540643; 987748; 751230; 201624; 539420; 786415; 509212; 322456;\n",
       "    298110; 582250; 518609; 489033; 670978; 1021347; 486499; 178376; 897143;\n",
       "    427344; 539200; 561575; 360219; 94695; 309574; 764155; 828098; 117745;\n",
       "    798068; 884275; 907697; 727802; 375387; 916369; 153429; 567061; 724046;\n",
       "    731047; 546058; 230440; 629328; 397967; 924523; 98233; 779691; 977295;\n",
       "    553994; 1001021; 684787; 454123; 644440; 113836; 997362; 91008; 735752;\n",
       "    111703; 914582; 424261; 534093; 585086; 271282; 426932; 118136; 149097;\n",
       "    334049; 611853; 364258; 28261; 571271; 832374; 293525; 90672; 392360;\n",
       "    437034; 1005223; 784939; 49313; 66382; 733732; 144409; 785778; 906771;\n",
       "    830003; 1016082; 348534; 735501; 903754; 892348; 769719; 223068; 435155;\n",
       "    133458; 79586; 596771; 679049; 881325; 1038516; 207476; 228726; 974766;\n",
       "    66502; 856372; 702302; 528712; 328569; 254158; 751945; 932354; 761504;\n",
       "    215922; 471954; 1041981; 602987; 740363; 629853; 934517; 874944; 808572;\n",
       "    85060; 948334; 315896; 933801; 143192; 590577; 640219; 1042839; 431290;\n",
       "    377720; 154976; 50949; 689801; 335566; 65081; 452683; 221333; 759131;\n",
       "    936435; 737994; 305881; 135628; 200180; 112225; 399493; 386949; 149857;\n",
       "    62196; 649932; 483795; 560607; 419496; 907128; 146284; 604882; 579907;\n",
       "    221209; 632403; 394898; 933724; 64498; 905430; 508074; 207993; 757100;\n",
       "    957899; 654169; 619717; 12682; 378128; 571952; 479783; 654635; 47396;\n",
       "    204354; 183761; 109175; 428112; 275523; 566942; 602428; 169065; 818458;\n",
       "    751395; 370254; 913308; 170806; 500614; 972457; 852423; 860716; 947578;\n",
       "    591837; 879366; 84991; 877816; 598037; 924328; 947516; 528473; 84311;\n",
       "    182856; 232838; 982938; 29702; 995400; 182990; 369786; 435012; 1035885;\n",
       "    664313; 501155; 476786; 737420; 767826; 385568; 835621; 466240; 445138;\n",
       "    898927; 153446; 584435; 654533; 991725; 621432; 716839; 705504; 655437;\n",
       "    867040; 70695; 947326; 334293; 861221; 415115; 624038; 234452; 535300;\n",
       "    770067; 578724; 60756; 226825; 80517; 499680; 17909; 477257; 170209;\n",
       "    939053; 267871; 86609; 434266; 273473; 568988; 596294; 191555; 734632;\n",
       "    15636; 251397; 27349; 687780; 367250; 988939; 919859; 574490; 976473;\n",
       "    762483; 167887; 663115; 325372; 132543; 193029; 143914; 279888; 833680;\n",
       "    579684; ...|]\n"
      ]
     },
     "execution_count": 1,
     "metadata": {},
     "output_type": "execute_result"
    },
    {
     "data": {
      "text/plain": [
       "val test : bool ref = {contents = true}\n"
      ]
     },
     "execution_count": 1,
     "metadata": {},
     "output_type": "execute_result"
    },
    {
     "data": {
      "text/plain": [
       "val u : int -> int = <fun>\n"
      ]
     },
     "execution_count": 1,
     "metadata": {},
     "output_type": "execute_result"
    },
    {
     "data": {
      "text/plain": [
       "val affiche_u0 : unit -> unit = <fun>\n"
      ]
     },
     "execution_count": 1,
     "metadata": {},
     "output_type": "execute_result"
    }
   ],
   "source": [
    "open Printf\n",
    "\n",
    "let u0_test = 42\n",
    "let u0_perso = 69                \n",
    "\n",
    "let m = 1_048_573\n",
    "         \n",
    "let tab_u u0 =\n",
    "  let t = Array.make 10_000_000 u0 in\n",
    "  for i = 1 to Array.length t - 1 do\n",
    "    t.(i) <- (1022 * t.(i - 1)) mod m\n",
    "  done;\n",
    "  t\n",
    "\n",
    "let t_test = tab_u u0_test\n",
    "let t_perso = tab_u u0_perso                   \n",
    "\n",
    "let test = ref true\n",
    "                    \n",
    "let u i = if !test then t_test.(i) else t_perso.(i)\n",
    "\n",
    "let affiche_u0 () = printf \"u_0 = %d\\n\" (u 0)  "
   ]
  },
  {
   "cell_type": "markdown",
   "metadata": {},
   "source": [
    "## Génération des co-arbres\n",
    "\n",
    "### Question 1"
   ]
  },
  {
   "cell_type": "code",
   "execution_count": 2,
   "metadata": {},
   "outputs": [
    {
     "data": {
      "text/plain": [
       "val q1 : unit -> unit = <fun>\n"
      ]
     },
     "execution_count": 2,
     "metadata": {},
     "output_type": "execute_result"
    }
   ],
   "source": [
    "let q1 () =\n",
    "  affiche_u0 ();\n",
    "  List.iter (fun n -> printf \"u_%d = %d\\n\" n (u n))\n",
    "            [10; 500; 10_000];\n",
    "  print_newline ()"
   ]
  },
  {
   "cell_type": "code",
   "execution_count": 3,
   "metadata": {},
   "outputs": [
    {
     "name": "stdout",
     "output_type": "stream",
     "text": [
      "u_0 = 42\n",
      "u_10 = 167434\n",
      "u_500 = 420971\n",
      "u_10000 = 146882\n",
      "\n"
     ]
    },
    {
     "data": {
      "text/plain": [
       "- : unit = ()\n"
      ]
     },
     "execution_count": 3,
     "metadata": {},
     "output_type": "execute_result"
    }
   ],
   "source": [
    "q1 ()"
   ]
  },
  {
   "cell_type": "markdown",
   "metadata": {},
   "source": [
    "## Question 2\n",
    "\n",
    "L'énoncé précise qu'on va « dans un premier temps » travailler sur des co-arbres binaires. Pour l'instant, on définit donc un type pour les co-arbres binaires : au besoin, on définira un type plus général plus tard."
   ]
  },
  {
   "cell_type": "code",
   "execution_count": 4,
   "metadata": {},
   "outputs": [
    {
     "data": {
      "text/plain": [
       "type coarbre = F | N of bool * coarbre * coarbre\n"
      ]
     },
     "execution_count": 4,
     "metadata": {},
     "output_type": "execute_result"
    },
    {
     "data": {
      "text/plain": [
       "val t : int -> int -> coarbre = <fun>\n"
      ]
     },
     "execution_count": 4,
     "metadata": {},
     "output_type": "execute_result"
    },
    {
     "data": {
      "text/plain": [
       "val hauteur : coarbre -> int = <fun>\n"
      ]
     },
     "execution_count": 4,
     "metadata": {},
     "output_type": "execute_result"
    },
    {
     "data": {
      "text/plain": [
       "val q2 : unit -> unit = <fun>\n"
      ]
     },
     "execution_count": 4,
     "metadata": {},
     "output_type": "execute_result"
    }
   ],
   "source": [
    "type coarbre = \n",
    "    | F\n",
    "    | N of bool * coarbre * coarbre\n",
    "    \n",
    "let rec t n k = \n",
    "    if n = 1 then F\n",
    "    else\n",
    "        let i = 1 + u k mod (n - 1) in\n",
    "        let ga = t i (k + 2) in\n",
    "        let dr = t (n - i) (k + 2 * i) in\n",
    "        let b = (u (k + 1) mod 2 = 1) in\n",
    "        N (b, ga, dr)\n",
    "        \n",
    "let rec hauteur = function\n",
    "    | F -> 0\n",
    "    | N (_, ga, dr) -> 1 + max (hauteur ga) (hauteur dr)\n",
    "    \n",
    "let q2 () = \n",
    "    affiche_u0 ();\n",
    "    printf \"Question 2\\n\";\n",
    "    List.iter \n",
    "        (fun (n, k) -> printf \"hauteur(T_(%i, %i)) = %i\\n\" n k (hauteur (t n k)))\n",
    "        [(10, 12); (500, 345); (5_000, 6_789)];\n",
    "    print_newline ()"
   ]
  },
  {
   "cell_type": "code",
   "execution_count": 5,
   "metadata": {},
   "outputs": [
    {
     "name": "stdout",
     "output_type": "stream",
     "text": [
      "u_0 = 42\n",
      "Question 2\n",
      "hauteur(T_(10, 12)) = 5\n",
      "hauteur(T_(500, 345)) = 23\n",
      "hauteur(T_(5000, 6789)) = 29\n",
      "\n"
     ]
    },
    {
     "data": {
      "text/plain": [
       "- : unit = ()\n"
      ]
     },
     "execution_count": 5,
     "metadata": {},
     "output_type": "execute_result"
    }
   ],
   "source": [
    "q2 ()"
   ]
  },
  {
   "cell_type": "markdown",
   "metadata": {},
   "source": [
    "## Question pour l'oral 1\n",
    "\n",
    "Une récurrence immédiate sur $n$ montre que $T_{n, k}$ possède $n$ feuilles, et donc $2n - 1$ nœuds internes (c'est un arbre binaire entier)."
   ]
  },
  {
   "cell_type": "markdown",
   "metadata": {},
   "source": [
    "## Question 3\n",
    "\n",
    "On peut être tenté de calculer le cographe associé au coarbre, mais c'est une mauvaise idée. On a immédiatement à partir de la définition :\n",
    "  - $aretes(0, g, d) = aretes(g) + aretes(d)$\n",
    "  - $aretes(1, g, d) = aretes(g) + aretes(d) + nb_f(g) \\cdot nb_f(d)$\n",
    "  - $d_{max}(0, g, d) = \\max (d_{max}(g), d_{max}(d))$\n",
    "  - $d_{max}(1, g, d) = \\max (d_{max}(g) + nb_f(d), d_{max}(d) + nb_f(g))$"
   ]
  },
  {
   "cell_type": "code",
   "execution_count": 6,
   "metadata": {},
   "outputs": [
    {
     "data": {
      "text/plain": [
       "val nb_feuilles : coarbre -> int = <fun>\n"
      ]
     },
     "execution_count": 6,
     "metadata": {},
     "output_type": "execute_result"
    },
    {
     "data": {
      "text/plain": [
       "val aretes : coarbre -> int = <fun>\n"
      ]
     },
     "execution_count": 6,
     "metadata": {},
     "output_type": "execute_result"
    },
    {
     "data": {
      "text/plain": [
       "val d_max : coarbre -> int = <fun>\n"
      ]
     },
     "execution_count": 6,
     "metadata": {},
     "output_type": "execute_result"
    },
    {
     "data": {
      "text/plain": [
       "val q3 : unit -> unit = <fun>\n"
      ]
     },
     "execution_count": 6,
     "metadata": {},
     "output_type": "execute_result"
    }
   ],
   "source": [
    "let rec nb_feuilles = function\n",
    "    | F -> 1\n",
    "    | N (_, g, d) -> nb_feuilles g + nb_feuilles d\n",
    "\n",
    "let rec aretes = function\n",
    "    | F -> 0\n",
    "    | N (false, g, d) -> aretes g + aretes d\n",
    "    | N (true, g, d) -> aretes g + aretes d + nb_feuilles g * nb_feuilles d\n",
    "    \n",
    "let rec d_max = function\n",
    "    | F -> 0\n",
    "    | N (false, g, d) -> max (d_max g) (d_max d)\n",
    "    | N (true, g, d) -> max (d_max g + nb_feuilles d) (d_max d + nb_feuilles g)\n",
    "    \n",
    "let q3 () =\n",
    "    affiche_u0 ();\n",
    "    List.iter\n",
    "        (fun (n, k) ->\n",
    "            let g = t n k in\n",
    "            printf \"G(%d, %d) : aretes %d, degre max %d\\n\" \n",
    "                n k (aretes g) (d_max g)\n",
    "        )\n",
    "        [(10, 98); (500, 765); (2000, 4321)];\n",
    "    print_newline ()"
   ]
  },
  {
   "cell_type": "code",
   "execution_count": 7,
   "metadata": {},
   "outputs": [
    {
     "name": "stdout",
     "output_type": "stream",
     "text": [
      "u_0 = 42\n",
      "G(10, 98) : aretes 42, degre max 9\n",
      "G(500, 765) : aretes 53092, degre max 344\n",
      "G(2000, 4321) : aretes 1679866, degre max 1997\n",
      "\n"
     ]
    },
    {
     "data": {
      "text/plain": [
       "- : unit = ()\n"
      ]
     },
     "execution_count": 7,
     "metadata": {},
     "output_type": "execute_result"
    }
   ],
   "source": [
    "q3 ()"
   ]
  },
  {
   "cell_type": "markdown",
   "metadata": {},
   "source": [
    "## Question pour l'oral 2\n",
    "\n",
    "Il est possible de calculer le nombre d'arêtes et le degré maximum de $val(t)$ directement à partir de $t$, nous venons de le faire ! \n",
    "\n",
    "En notant $n$ le nombre de feuilles de $t$, on a les complexités temporelles suivantes :\n",
    "  - $T_f(n) = \\Theta(n)$ pour `nb_feuilles` (simple parcours d'arbre) ;\n",
    "  - $T_a(n) = T_a(i) + T_a(n - i) + T_f(i) + T_f(n - i) = T_a(i) + T_a(n - i) + \\Theta(n)$, où $1 \\leq i < n$, pour `arêtes`. C'est la même relation que pour un tri rapide, et on obtient de même $T_a(n) = \\Theta(n^2)$ dans le pire cas (peigne, par exemple).\n",
    "  - $T_d(n) = \\Theta(n^2)$ de la même manière.\n",
    "  \n",
    "On peut noter que les complexités quadratiques pour `aretes` et `d_max` sont liées aux calculs répétés de `nb_feuilles` ; on pourrait facilement obtenir une complexité linéaire en calculant simultanément le nombre de feuilles et le nombre d'arêtes (ou le degré maximum)."
   ]
  },
  {
   "cell_type": "markdown",
   "metadata": {},
   "source": [
    "# Algorithmes sur les cographes\n",
    "\n",
    "## Question pour l'oral 3\n",
    "\n",
    "  - Si $a = 0$, alors aucun sommet de $val(t_1)$ n'est voisin d'un sommet de $val(t_2)$, et par conséquent une clique de $val(t)$ est soit une clique de $val(t_1)$ soit une clique de $val(t_2)$. Inversement, une clique de $val(t_1)$ est évidemment une clique de $val(t)$, d'où l'égalité demandée.\n",
    "  - Si $a = 1$ :\n",
    "    - l'union d'une clique de $val(t_1)$ et d'une clique de $val(t_2)$ donne une clique de $val(t)$, d'où $\\omega(val(t)) \\geq \\omega(val(t_1)) + \\omega(val(t_2))$ ;\n",
    "    - inversement, comme une clique $X$ de $val(t)$ vérifie $X = (X \\cap val(t_1)) \\cup (X \\cap val(t_2))$ avec $X \\cap val(t_1)$ une clique de $val(t_1)$ et $X \\cap val(t_2)$ une clique de $val(t_2)$, on a l'autre inégalité."
   ]
  },
  {
   "cell_type": "markdown",
   "metadata": {},
   "source": [
    "## Questions 4 et 5"
   ]
  },
  {
   "cell_type": "code",
   "execution_count": 8,
   "metadata": {},
   "outputs": [
    {
     "data": {
      "text/plain": [
       "val omega : coarbre -> int = <fun>\n"
      ]
     },
     "execution_count": 8,
     "metadata": {},
     "output_type": "execute_result"
    },
    {
     "data": {
      "text/plain": [
       "val q4 : unit -> unit = <fun>\n"
      ]
     },
     "execution_count": 8,
     "metadata": {},
     "output_type": "execute_result"
    },
    {
     "data": {
      "text/plain": [
       "val omega_moyen : int -> int -> float = <fun>\n"
      ]
     },
     "execution_count": 8,
     "metadata": {},
     "output_type": "execute_result"
    },
    {
     "data": {
      "text/plain": [
       "val q5 : unit -> unit = <fun>\n"
      ]
     },
     "execution_count": 8,
     "metadata": {},
     "output_type": "execute_result"
    }
   ],
   "source": [
    "let rec omega = function\n",
    "    | F -> 1\n",
    "    | N (false, g, d) -> max (omega g) (omega d)\n",
    "    | N (true, g, d) -> omega g + omega d\n",
    "    \n",
    "let q4 () =\n",
    "    affiche_u0 ();\n",
    "    List.iter \n",
    "        (fun (n, k) -> printf \"omega(G(%d, %d)) = %d\\n\" n k (omega (t n k)))\n",
    "        [(100, 314); (1000, 159); (10_000, 265)];\n",
    "    print_newline ()\n",
    "    \n",
    "let omega_moyen n kmax =\n",
    "    let rec aux k s = \n",
    "        if k > kmax then s \n",
    "        else aux (k + 1) (s + omega (t n k)) in\n",
    "    float (aux 1 0) /. float kmax\n",
    "    \n",
    "let q5 () =\n",
    "    affiche_u0 ();\n",
    "    List.iter\n",
    "        (fun n -> printf \"moyenne n = %d : %.2f\\n\" n (omega_moyen n 1000))\n",
    "        [100; 1_000; 10_000];\n",
    "    print_newline ()"
   ]
  },
  {
   "cell_type": "code",
   "execution_count": 9,
   "metadata": {},
   "outputs": [
    {
     "name": "stdout",
     "output_type": "stream",
     "text": [
      "u_0 = 42\n",
      "omega(G(100, 314)) = 13\n",
      "omega(G(1000, 159)) = 102\n",
      "omega(G(10000, 265)) = 636\n",
      "\n",
      "u_0 = 42\n",
      "moyenne n = 100 : 23.19\n",
      "moyenne n = 1000 : 120.03\n",
      "moyenne n = 10000 : 686.36\n",
      "\n"
     ]
    },
    {
     "data": {
      "text/plain": [
       "- : unit = ()\n"
      ]
     },
     "execution_count": 9,
     "metadata": {},
     "output_type": "execute_result"
    }
   ],
   "source": [
    "q4 ();\n",
    "q5 ()"
   ]
  },
  {
   "cell_type": "markdown",
   "metadata": {},
   "source": [
    "## Question pour l'oral 4\n",
    "\n",
    "Question facile qui devient évidente si l'on pense à lire la suite de l'énoncé... Par exemple $N(1, N(1, F), N(1, F))$ donne le même graphe $K_2$ que $N(1, F, F)$.\n",
    "\n",
    "## Question 6\n",
    "\n",
    "Cette question est un peu délicate (réussie par 12 candidats sur 40), en particulier parce qu'on ne peut pas continuer à travailler avec des arbres binaires."
   ]
  },
  {
   "cell_type": "code",
   "execution_count": 10,
   "metadata": {},
   "outputs": [
    {
     "data": {
      "text/plain": [
       "type naire = Fn | Nn of bool * naire list\n"
      ]
     },
     "execution_count": 10,
     "metadata": {},
     "output_type": "execute_result"
    },
    {
     "data": {
      "text/plain": [
       "val remonte : bool -> naire -> naire list = <fun>\n"
      ]
     },
     "execution_count": 10,
     "metadata": {},
     "output_type": "execute_result"
    },
    {
     "data": {
      "text/plain": [
       "val canonique : coarbre -> naire = <fun>\n"
      ]
     },
     "execution_count": 10,
     "metadata": {},
     "output_type": "execute_result"
    },
    {
     "data": {
      "text/plain": [
       "val somme : int list -> int = <fun>\n"
      ]
     },
     "execution_count": 10,
     "metadata": {},
     "output_type": "execute_result"
    },
    {
     "data": {
      "text/plain": [
       "val nb_noeuds : naire -> int = <fun>\n"
      ]
     },
     "execution_count": 10,
     "metadata": {},
     "output_type": "execute_result"
    },
    {
     "data": {
      "text/plain": [
       "val q6 : unit -> unit = <fun>\n"
      ]
     },
     "execution_count": 10,
     "metadata": {},
     "output_type": "execute_result"
    }
   ],
   "source": [
    "type naire = \n",
    "    | Fn\n",
    "    | Nn of bool * naire list\n",
    "\n",
    "let remonte b = function\n",
    "    | Fn -> [Fn] \n",
    "    | Nn (b', fils) -> \n",
    "        if b' = b then fils \n",
    "        else [Nn (b', fils)]\n",
    "\n",
    "let rec canonique = function\n",
    "    | F -> Fn\n",
    "    | N (b, g, d) -> Nn (b, remonte b (canonique g) @ remonte b (canonique d))\n",
    "\n",
    "let somme = List.fold_left (+) 0\n",
    "\n",
    "let rec nb_noeuds = function\n",
    "    | Fn -> 1\n",
    "    | Nn (_, fils) -> 1 + somme (List.map nb_noeuds fils)\n",
    "    \n",
    "let q6 () =\n",
    "    affiche_u0 ();\n",
    "    List.iter\n",
    "        (fun (n, k) -> \n",
    "            let g = t n k in \n",
    "            printf \"T'(%d, %d) : %d noeuds\\n\" n k (nb_noeuds (canonique g)))\n",
    "        [(100, 271); (1000, 828); (10_000, 182)];\n",
    "    print_newline ()\n",
    "        "
   ]
  },
  {
   "cell_type": "code",
   "execution_count": 11,
   "metadata": {},
   "outputs": [
    {
     "name": "stdout",
     "output_type": "stream",
     "text": [
      "u_0 = 42\n",
      "T'(100, 271) : 158 noeuds\n",
      "T'(1000, 828) : 1514 noeuds\n",
      "T'(10000, 182) : 15036 noeuds\n",
      "\n"
     ]
    },
    {
     "data": {
      "text/plain": [
       "- : unit = ()\n"
      ]
     },
     "execution_count": 11,
     "metadata": {},
     "output_type": "execute_result"
    }
   ],
   "source": [
    "q6 ()"
   ]
  },
  {
   "cell_type": "markdown",
   "metadata": {},
   "source": [
    "## Question pour l'oral 5\n",
    "\n",
    "La question n'est pas très bien formulée : ce n'est pas un ordre total que l'on veut mais un pré-ordre total. D'après ce qui précède, on doit faire en sorte que $t \\preceq t'$ et $t' \\preceq t$ si et seulement si on peut passer de $t$ à $t'$ en permutant un certain nombre de nœuds avec leur frère. On définit l'ordre de manière inductive :\n",
    "  - $F \\prec N(\\_, \\_)$\n",
    "  - $N(0, \\_) \\prec N(1, \\_)$\n",
    "  - $N(b, f) \\prec N(b, f')$ ssi $tri(f) \\prec_{lexi} tri(f')$ où $\\prec_{lexi}$ est l'extension lexicographique de l'ordre que nous sommes en train de définir et $tri(f)$ renvoie la liste $f$ triée par ordre croissant (toujours suivant l'ordre que l'on définit).\n",
    "  \n",
    "Cette définition inductive est bien fondé puisque les appels récursifs à $\\prec$ se font toujours sur des arbres structurellement plus petits ; le fait qu'elle définisse un pré-ordre ne pose pas de problème particulier.\n",
    "\n",
    "Notons que pour l'implémentation, on peut déléguer la plus grande partie du travail à Caml : tout type algébrique est automatiquement doté d'un ordre total, qui correspond essentiellement au nôtre (sauf bien sûr qu'il faut trier les fils)."
   ]
  },
  {
   "cell_type": "code",
   "execution_count": 12,
   "metadata": {},
   "outputs": [
    {
     "data": {
      "text/plain": [
       "val tri : naire -> naire = <fun>\n"
      ]
     },
     "execution_count": 12,
     "metadata": {},
     "output_type": "execute_result"
    },
    {
     "data": {
      "text/plain": [
       "val equiv : naire -> naire -> bool = <fun>\n"
      ]
     },
     "execution_count": 12,
     "metadata": {},
     "output_type": "execute_result"
    },
    {
     "data": {
      "text/plain": [
       "val premier_equiv : int -> int = <fun>\n"
      ]
     },
     "execution_count": 12,
     "metadata": {},
     "output_type": "execute_result"
    },
    {
     "data": {
      "text/plain": [
       "val q7 : unit -> unit = <fun>\n"
      ]
     },
     "execution_count": 12,
     "metadata": {},
     "output_type": "execute_result"
    }
   ],
   "source": [
    "(* compare est la fonction de comparaison polymorphe prédéfinie \n",
    "    en Caml. *)\n",
    "let rec tri = function\n",
    "    | Fn -> Fn\n",
    "    | Nn(b, fils) -> \n",
    "        let f = List.map tri fils in\n",
    "        Nn(b, List.sort compare f)\n",
    "        \n",
    "let rec equiv t t' = (tri t = tri t')\n",
    "    \n",
    "let premier_equiv n =\n",
    "    let cible = tri (canonique (t n 0)) in\n",
    "    let rec aux k =\n",
    "        let a = canonique (t n k) in\n",
    "        if cible = tri a then k\n",
    "        else aux (k + 1) in\n",
    "    aux 1\n",
    "\n",
    "let q7 () =\n",
    "    affiche_u0 ();\n",
    "    List.iter\n",
    "        (fun n -> printf \"pour G(%d, 0) : G(%d, %d)\\n\" n n (premier_equiv n))\n",
    "        [8; 12; 15];\n",
    "    print_newline ()"
   ]
  },
  {
   "cell_type": "code",
   "execution_count": 13,
   "metadata": {},
   "outputs": [
    {
     "name": "stdout",
     "output_type": "stream",
     "text": [
      "u_0 = 42\n",
      "pour G(8, 0) : G(8, 861)\n",
      "pour G(12, 0) : G(12, 4475)\n",
      "pour G(15, 0) : G(15, 801996)\n",
      "\n"
     ]
    },
    {
     "data": {
      "text/plain": [
       "- : unit = ()\n"
      ]
     },
     "execution_count": 13,
     "metadata": {},
     "output_type": "execute_result"
    }
   ],
   "source": [
    "q7 ()"
   ]
  },
  {
   "cell_type": "markdown",
   "metadata": {},
   "source": [
    "## Question 8\n",
    "\n",
    "Il serait plus efficace de ranger nos représentants dans un ABR pour accélérer la recherche, mais le calcul sur les données de l'énoncé ne prend que quelques secondes en procédant « bêtement »."
   ]
  },
  {
   "cell_type": "code",
   "execution_count": 14,
   "metadata": {},
   "outputs": [
    {
     "data": {
      "text/plain": [
       "val nb_classes_equiv : int -> int -> int = <fun>\n"
      ]
     },
     "execution_count": 14,
     "metadata": {},
     "output_type": "execute_result"
    },
    {
     "data": {
      "text/plain": [
       "val q8 : unit -> unit = <fun>\n"
      ]
     },
     "execution_count": 14,
     "metadata": {},
     "output_type": "execute_result"
    }
   ],
   "source": [
    "let nb_classes_equiv n kmax = \n",
    "    let rec ajoute x = function\n",
    "        | [] -> [x]\n",
    "        | y :: ys -> if (x = y) then y :: ys else y :: ajoute x ys in\n",
    "    let rec classes k c = \n",
    "        if k > kmax then c\n",
    "        else\n",
    "            let x = tri (canonique (t n k)) in\n",
    "            classes (k + 1) (ajoute x c) in\n",
    "    List.length (classes 1 [])\n",
    "    \n",
    "let q8 () =\n",
    "    affiche_u0 ();\n",
    "    List.iter\n",
    "        (fun n -> printf \"nb classes pour (%d, k) : %d\\n\" \n",
    "            n (nb_classes_equiv n 10_000))\n",
    "        [10; 15; 20];\n",
    "    print_newline ()"
   ]
  },
  {
   "cell_type": "code",
   "execution_count": 15,
   "metadata": {},
   "outputs": [
    {
     "name": "stdout",
     "output_type": "stream",
     "text": [
      "u_0 = 42\n",
      "nb classes pour (10, k) : 2618\n",
      "nb classes pour (15, k) : 8952\n",
      "nb classes pour (20, k) : 9917\n",
      "\n"
     ]
    },
    {
     "data": {
      "text/plain": [
       "- : unit = ()\n"
      ]
     },
     "execution_count": 15,
     "metadata": {},
     "output_type": "execute_result"
    }
   ],
   "source": [
    "q8 ()"
   ]
  },
  {
   "cell_type": "markdown",
   "metadata": {},
   "source": [
    "## Question pour l'oral 6\n",
    "\n"
   ]
  },
  {
   "cell_type": "markdown",
   "metadata": {},
   "source": [
    "# Question 9\n",
    "\n",
    "Les $G'_{n, k}$ sont plutôt denses (environ la moitié des arêtes possibles sont présentes), donc autant les stocker sous forme de matrices d'adjacance. On pourrait ne stocker qu'un demi-matrice, mais il est aussi simple de garder la matrice (symétrique) en entier.\n",
    "\n",
    "Ensuite, déterminer la connexité d'un graphe est une question de cours qu'il faut absolument traiter même si on a sauté les questions précédentes."
   ]
  },
  {
   "cell_type": "code",
   "execution_count": 16,
   "metadata": {},
   "outputs": [
    {
     "data": {
      "text/plain": [
       "val gprime : int -> int -> bool array array = <fun>\n"
      ]
     },
     "execution_count": 16,
     "metadata": {},
     "output_type": "execute_result"
    },
    {
     "data": {
      "text/plain": [
       "val connexe : bool array array -> bool = <fun>\n"
      ]
     },
     "execution_count": 16,
     "metadata": {},
     "output_type": "execute_result"
    },
    {
     "data": {
      "text/plain": [
       "val nb_non_connexes : int -> int -> int = <fun>\n"
      ]
     },
     "execution_count": 16,
     "metadata": {},
     "output_type": "execute_result"
    },
    {
     "data": {
      "text/plain": [
       "val q9 : unit -> unit = <fun>\n"
      ]
     },
     "execution_count": 16,
     "metadata": {},
     "output_type": "execute_result"
    }
   ],
   "source": [
    "let gprime n k =\n",
    "    let g = Array.make_matrix n n false in\n",
    "    for i = 0 to n - 1 do\n",
    "        for j = 0 to n - 1 do\n",
    "            if i <> j && u (min i j + 1 + u (k + max i j + 1)) mod 2 = 1 then\n",
    "                g.(i).(j) <- true\n",
    "        done\n",
    "    done;\n",
    "    g\n",
    "  \n",
    "let connexe g =\n",
    "    let n = Array.length g in\n",
    "    let vus = Array.make n false in\n",
    "    let rec explore i =\n",
    "        if not vus.(i) then begin\n",
    "            vus.(i) <- true;\n",
    "            for j = 0 to n - 1 do\n",
    "                if g.(i).(j) then explore j\n",
    "            done\n",
    "        end in\n",
    "    explore 0;\n",
    "    Array.fold_left (&&) true vus \n",
    "  \n",
    "let nb_non_connexes n kmax =\n",
    "    let i = ref 0 in\n",
    "    for k = 1 to kmax do\n",
    "        if not (connexe (gprime n k)) then incr i\n",
    "    done;\n",
    "    !i\n",
    "\n",
    "let q9 () =\n",
    "    affiche_u0 ();\n",
    "    List.iter\n",
    "        (fun (n, kmax) -> printf \"nb non connexes pour n = %d, k <= %d : %d\\n\" \n",
    "            n kmax (nb_non_connexes n kmax))\n",
    "        [(4, 10_000); (6, 10_000); (8, 100_000); (10, 100_000)];\n",
    "    print_newline ()\n",
    "        "
   ]
  },
  {
   "cell_type": "code",
   "execution_count": 17,
   "metadata": {},
   "outputs": [
    {
     "name": "stdout",
     "output_type": "stream",
     "text": [
      "u_0 = 42\n",
      "nb non connexes pour n = 4, k <= 10000 : 4018\n",
      "nb non connexes pour n = 6, k <= 10000 : 1860\n",
      "nb non connexes pour n = 8, k <= 100000 : 6805\n",
      "nb non connexes pour n = 10, k <= 100000 : 2356\n",
      "\n"
     ]
    },
    {
     "data": {
      "text/plain": [
       "- : unit = ()\n"
      ]
     },
     "execution_count": 17,
     "metadata": {},
     "output_type": "execute_result"
    }
   ],
   "source": [
    "q9 ()"
   ]
  },
  {
   "cell_type": "markdown",
   "metadata": {},
   "source": [
    "## Question pour l'oral 7\n",
    "\n",
    "On confond cographe et arbre canonique associé dans ce qui suit. Si $G = (V, E)$ et $G' = (V', E')$ sont deux graphes, on appelle *réunion disjointe* de $G$ et $G'$ le graphe $G + G' := (V \\cup V', E \\cup E')$.\n",
    "  - Un cographe dont la racine est étiquetée 0 est la réunion disjointe de ses enfants, qui sont des cographes non vides et strictement plus petits. En particulier, il est non connexe.\n",
    "  - Si $G$ est un cographe, alors $\\overline{G}$ est le cographe associé à l'arbre obtenu en changeant toutes les étiquettes des noeuds internes de (l'arbre de) $G$. \n",
    "  - Si $G$ est un cographe dont la racine est étiquetée 1, alors c'est le complémentaires d'un cographe dont la racine est étiquetée 0.\n",
    "  \n",
    "On en déduit l'algorithme suivant :\n",
    " - si $G$ n'a qu'un sommet, c'est un cographe ;\n",
    " - sinon, si $G$ n'est pas connexe, on note $G_1, \\dots G_k$ ses composantes connexes. Si $G_1, \\dots, G_k$ sont des cographes d'arbres $T_1, \\dots T_k$ alors $G$ est un cographe d'arbre $N(1, [T_1, \\dots, T_k])$. Sinon, $G$ n'est pas un cographe.\n",
    " - si $G$ est connexe, alors : \n",
    "   - si $\\overline{G}$ est connexe, $G$ n'est pas un cographe ;\n",
    "   - sinon, on cherche le coarbre de $\\overline{G}$ ; s'il n'y en a pas, $G$ n'est pas un cographe, s'il y en a un, c'est un cographe et on obtient l'arbre de $G$ en changeant les étiquettes de celui de $\\overline{G}$."
   ]
  },
  {
   "cell_type": "markdown",
   "metadata": {},
   "source": [
    "## Question 10"
   ]
  },
  {
   "cell_type": "code",
   "execution_count": 18,
   "metadata": {},
   "outputs": [
    {
     "data": {
      "text/plain": [
       "val gbar : bool array array -> bool array array = <fun>\n"
      ]
     },
     "execution_count": 18,
     "metadata": {},
     "output_type": "execute_result"
    },
    {
     "data": {
      "text/plain": [
       "val sous_graphe : bool array array -> int list -> bool array array = <fun>\n"
      ]
     },
     "execution_count": 18,
     "metadata": {},
     "output_type": "execute_result"
    },
    {
     "data": {
      "text/plain": [
       "val composantes : bool array array -> int list list = <fun>\n"
      ]
     },
     "execution_count": 18,
     "metadata": {},
     "output_type": "execute_result"
    },
    {
     "data": {
      "text/plain": [
       "val graphes_composantes : bool array array -> bool array array list = <fun>\n"
      ]
     },
     "execution_count": 18,
     "metadata": {},
     "output_type": "execute_result"
    },
    {
     "data": {
      "text/plain": [
       "val est_cographe : bool array array -> bool = <fun>\n"
      ]
     },
     "execution_count": 18,
     "metadata": {},
     "output_type": "execute_result"
    }
   ],
   "source": [
    "let gbar g =\n",
    "  let n = Array.length g in\n",
    "  Array.init n (fun i -> Array.init n (fun j -> i <> j && not g.(i).(j)))\n",
    "\n",
    "(* La méthode choisie pour extraire les composantes connexes n'est sans \n",
    "   doute pas la meilleure, mais elle fait l'affaire. *)\n",
    "\n",
    "(* Prend un graphe et une liste de numéros de sommets et renvoie\n",
    "   le sous-graphe induit par ces sommets. *)             \n",
    "let sous_graphe g sommets = \n",
    "    let t = Array.of_list sommets in\n",
    "    let n = Array.length t in\n",
    "    let g' = Array.make_matrix n n false in\n",
    "    for i = 0 to n - 1 do\n",
    "        for j = 0 to n - 1 do\n",
    "            g'.(i).(j) <- g.(t.(i)).(t.(j))\n",
    "        done\n",
    "    done;\n",
    "    g'\n",
    "    \n",
    "\n",
    "(* Renvoie la liste des composantes connexes (liste de listes). *)    \n",
    "let composantes g =\n",
    "    let n = Array.length g in\n",
    "    let vus = Array.make n false in\n",
    "    let rec ajoute i composante =\n",
    "    if not vus.(i) then\n",
    "        begin\n",
    "            vus.(i) <- true;\n",
    "            composante := i :: !composante;\n",
    "            for j = 0 to n - 1 do\n",
    "                if g.(i).(j) then ajoute j composante\n",
    "            done\n",
    "        end in\n",
    "    let composantes = ref [] in\n",
    "    for i = 0 to n - 1 do\n",
    "        if not vus.(i) then begin\n",
    "            let c = ref [] in\n",
    "            ajoute i c;\n",
    "            composantes := !c :: !composantes\n",
    "        end\n",
    "    done;\n",
    "    !composantes\n",
    "\n",
    "(* Renvoie les composantes connexes sous forme d'une liste de graphes. *)   \n",
    "let graphes_composantes g =\n",
    "  List.map (sous_graphe g) (composantes g)\n",
    "   \n",
    "let rec est_cographe g =\n",
    "  if Array.length g = 1 then true\n",
    "  else if not (connexe g) then\n",
    "    let compos = composantes g in\n",
    "    let sous_graphes =\n",
    "      List.map (fun sommets -> sous_graphe g sommets) compos in\n",
    "    List.fold_left (&&) true (List.map est_cographe sous_graphes)\n",
    "  else\n",
    "    let gb = gbar g in\n",
    "    if connexe gb then false\n",
    "    else est_cographe gb"
   ]
  },
  {
   "cell_type": "code",
   "execution_count": 19,
   "metadata": {},
   "outputs": [
    {
     "data": {
      "text/plain": [
       "val nb_cographes : int -> int -> int = <fun>\n"
      ]
     },
     "execution_count": 19,
     "metadata": {},
     "output_type": "execute_result"
    },
    {
     "data": {
      "text/plain": [
       "val q10 : unit -> unit = <fun>\n"
      ]
     },
     "execution_count": 19,
     "metadata": {},
     "output_type": "execute_result"
    }
   ],
   "source": [
    "let nb_cographes n kmax =\n",
    "  let i = ref 0 in\n",
    "  for k = 1 to kmax do\n",
    "    if est_cographe (gprime n k) then incr i\n",
    "  done;\n",
    "  !i\n",
    "\n",
    "let q10 () =\n",
    "  affiche_u0 ();\n",
    "  List.iter (fun (n, kmax) -> printf \"Nb de cographes n = %d, k <= %d : %d\\n\"\n",
    "                                     n kmax (nb_cographes n kmax))\n",
    "            [(4, 10_000); (6, 10_000); (8, 100_000); (10, 100_000)];\n",
    "  print_newline ()"
   ]
  },
  {
   "cell_type": "code",
   "execution_count": 20,
   "metadata": {},
   "outputs": [
    {
     "name": "stdout",
     "output_type": "stream",
     "text": [
      "u_0 = 42\n",
      "Nb de cographes n = 4, k <= 10000 : 8140\n",
      "Nb de cographes n = 6, k <= 10000 : 1702\n",
      "Nb de cographes n = 8, k <= 100000 : 562\n",
      "Nb de cographes n = 10, k <= 100000 : 1\n",
      "\n"
     ]
    },
    {
     "data": {
      "text/plain": [
       "- : unit = ()\n"
      ]
     },
     "execution_count": 20,
     "metadata": {},
     "output_type": "execute_result"
    }
   ],
   "source": [
    "q10 ()"
   ]
  },
  {
   "cell_type": "markdown",
   "metadata": {},
   "source": [
    "## Question pour l'oral 8\n",
    "\n",
    "Déjà, les cographes forment un sous-ensemble strict des graphes (on s'en doutait). Accessoirement, ils semblent se raréfier fortement quand le nombre de sommets augmente : sur nos graphes \"aléatoires\" à 4 sommets, on a 80% de cographes alors qu'on a un cographe sur 100 000 graphes à 10 sommets.\n",
    "\n",
    "On cherche un petit graphe connexe dont le complémentaire est connexe. Il est assez facile de voir qu'il n'y en a pas pour $n = 1, 2, 3$. Pour $n = 4$, il y en a exactement un (à isomorphisme près) : $P_4$, le graphe chemin à 4 sommets : $a - b - c - d$. "
   ]
  },
  {
   "cell_type": "markdown",
   "metadata": {},
   "source": [
    "## Question pour l'oral 9\n",
    "\n",
    "Supposons que $G$ ait un graphe induit $G[V']$ isomorphe à $P_4$, et soit $N$ le plus proche ancêtre commun des 4 sommets de $V'$. Si $N$ est un noeud 0, alors deux au moins des sommets sont dans des composantes connexes disjointes, ce qui est absurde. De même, Si $N$ est un noeud $1$, alors deux au moins des sommets sont dans des composantes connexes disjointes de $\\overline{G}$, absurde.\n",
    "\n",
    "\n",
    "L'autre sens est beaucoup plus délicat (ou alors il y a une solution simple que je n'ai pas trouvée), et mérite bien un schéma (dans lequel une arête en pointillé signale précisément l'absence d'arête).\n",
    "![](dessin.png)\n",
    "Dans ce qui suit, si $H = (V_H, E_H)$, on note $H - x$ pour $H[V_H \\setminus \\{ x \\}]$. Si $G$ n'est pas un cographe, alors il admet un sous graphe induit $G' = G[V]$ tel que $G'$ et $\\overline{G'}$ soient tous les deux connexes. Prenons un tel $G'$ de nombre de sommets minimal, et soit $x \\in G'$. Par minimalité de $G'$, on sait que \n",
    "$G' - x$ n'est pas connexe ou que $\\overline{G' - x}$ n'est pas connexe. Supposons par exemple que $G' - x$ ne soit pas connexe ; remarquons que $x$ a nécessairement un voisin dans chaque composante connexe de $G' - x$.\n",
    "\n",
    "$x$ n'est pas isolé dans $\\overline{G'}$ (qui est connexe) : soit donc $z \\in G'$ non adjacent à $x$ et $C_z$ sa composante connexe dans $G' - x$. Soit aussi $z'$ un voisin de $x$ dans $C_z$. Il y a un chemin $zy_1\\dots y_k z'x$ reliant $z$ à $x$ : on considère le dernier $y_i$ tel que $y_i$ ne soit pas un voisin de $x$, et l'on pose $y := y_i$ et $y' := y_{i + 1}$ ($y' = z$ si $i = k$, $y = z$ et $y' = y_1$ si tous les $y_i$ sont voisins de $x$). Notons qu'alors $G[\\{y, y', x\\}] \\simeq P_3$.\n",
    "\n",
    "D'autre part, $G' - x$ n'est pas connexe, donc on peut considérer une composante connexe $C' \\neq C_z$. En prenant $t$ un voisin de $x$ dans cette composante connexe, on vérifie facilement qu'on a $G[\\{y, y', x, t\\}] = y - y' - x - t \\simeq P_4$, ce qui achève la preuve."
   ]
  },
  {
   "cell_type": "markdown",
   "metadata": {},
   "source": [
    "## Question 11"
   ]
  },
  {
   "cell_type": "code",
   "execution_count": 21,
   "metadata": {},
   "outputs": [
    {
     "data": {
      "text/plain": [
       "val max3 : 'a -> 'a -> 'a -> 'a = <fun>\n"
      ]
     },
     "execution_count": 21,
     "metadata": {},
     "output_type": "execute_result"
    },
    {
     "data": {
      "text/plain": [
       "val raccords_et_taille : coarbre -> int * int = <fun>\n"
      ]
     },
     "execution_count": 21,
     "metadata": {},
     "output_type": "execute_result"
    },
    {
     "data": {
      "text/plain": [
       "val hamiltonien : coarbre -> bool = <fun>\n"
      ]
     },
     "execution_count": 21,
     "metadata": {},
     "output_type": "execute_result"
    },
    {
     "data": {
      "text/plain": [
       "val nb_hamiltoniens : int -> int -> int = <fun>\n"
      ]
     },
     "execution_count": 21,
     "metadata": {},
     "output_type": "execute_result"
    },
    {
     "data": {
      "text/plain": [
       "val q11 : unit -> unit = <fun>\n"
      ]
     },
     "execution_count": 21,
     "metadata": {},
     "output_type": "execute_result"
    }
   ],
   "source": [
    "let max3 a b c = max a (max b c)\n",
    "\n",
    "let rec raccords_et_taille = function\n",
    "    | F -> (1, 1)\n",
    "    | N (b, g, d) ->\n",
    "        let mg, ng = raccords_et_taille g in\n",
    "        let md, nd = raccords_et_taille d in\n",
    "        if b then \n",
    "            (max3 0 (mg - nd) (md - ng), ng + nd)\n",
    "        else\n",
    "            (max 1 mg + max 1 md, ng + nd)\n",
    "            \n",
    "let hamiltonien t = \n",
    "    let (raccords, _) = raccords_et_taille t in\n",
    "    raccords = 0\n",
    "    \n",
    "let nb_hamiltoniens n kmax = \n",
    "    let nb = ref 0 in\n",
    "    for k = 1 to kmax do\n",
    "        if hamiltonien (t n k) then incr nb\n",
    "    done;\n",
    "    !nb\n",
    "    \n",
    "let q11 () = \n",
    "    affiche_u0 ();\n",
    "    List.iter \n",
    "        (fun n -> printf \"Hamiltoniens pour n = %d : %d\\n\"\n",
    "            n (nb_hamiltoniens n 10_000))\n",
    "        [10; 100; 1_000; 10_000];\n",
    "    print_newline ()"
   ]
  },
  {
   "cell_type": "code",
   "execution_count": 22,
   "metadata": {},
   "outputs": [
    {
     "name": "stdout",
     "output_type": "stream",
     "text": [
      "u_0 = 42\n",
      "Hamiltoniens pour n = 10 : 3536\n",
      "Hamiltoniens pour n = 100 : 4697\n",
      "Hamiltoniens pour n = 1000 : 4955\n",
      "Hamiltoniens pour n = 10000 : 5004\n",
      "\n"
     ]
    },
    {
     "data": {
      "text/plain": [
       "- : unit = ()\n"
      ]
     },
     "execution_count": 22,
     "metadata": {},
     "output_type": "execute_result"
    }
   ],
   "source": [
    "q11 ()"
   ]
  },
  {
   "cell_type": "markdown",
   "metadata": {},
   "source": [
    "## Question pour l'oral 10\n",
    "\n",
    "La complexité est clairement linéaire, on fait un simple parcours d'arbre.\n",
    "\n",
    "La correction de l'algorithme est, elle, un peu plus problématique, mais on ne peut nier que les résultats obtenus sont ceux attendus... Moralement, le « raccords » de `raccords_et_taille` compte le nombre minimal de raccords à faire pour obtenir un cycle hamiltonien (et le graphe est donc hamiltonien s'il vaut zéro). Plus précisément, c'est le nombre minimal de sommets connectés à tous les sommets existants qu'il faut rajouter pour rendre le graphe hamiltonien."
   ]
  },
  {
   "cell_type": "code",
   "execution_count": null,
   "metadata": {},
   "outputs": [],
   "source": []
  }
 ],
 "metadata": {
  "kernelspec": {
   "display_name": "OCaml default",
   "language": "OCaml",
   "name": "ocaml-jupyter"
  },
  "language_info": {
   "codemirror_mode": "text/x-ocaml",
   "file_extension": ".ml",
   "mimetype": "text/x-ocaml",
   "name": "OCaml",
   "nbconverter_exporter": null,
   "pygments_lexer": "OCaml",
   "version": "4.07.1"
  }
 },
 "nbformat": 4,
 "nbformat_minor": 2
}

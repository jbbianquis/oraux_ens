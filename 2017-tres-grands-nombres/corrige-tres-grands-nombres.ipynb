{
 "cells": [
  {
   "cell_type": "markdown",
   "metadata": {},
   "source": [
    "# Très grands nombres\n",
    "\n",
    "### Questions 1 et 2"
   ]
  },
  {
   "cell_type": "code",
   "execution_count": 1,
   "metadata": {},
   "outputs": [
    {
     "data": {
      "text/plain": [
       "val u0_test : int = 42\n"
      ]
     },
     "execution_count": 1,
     "metadata": {},
     "output_type": "execute_result"
    },
    {
     "data": {
      "text/plain": [
       "val nmax : int = 50000\n"
      ]
     },
     "execution_count": 1,
     "metadata": {},
     "output_type": "execute_result"
    },
    {
     "data": {
      "text/plain": [
       "val m : int = 2147483647\n"
      ]
     },
     "execution_count": 1,
     "metadata": {},
     "output_type": "execute_result"
    },
    {
     "data": {
      "text/plain": [
       "val cree_tab : int -> int array = <fun>\n"
      ]
     },
     "execution_count": 1,
     "metadata": {},
     "output_type": "execute_result"
    },
    {
     "data": {
      "text/plain": [
       "val u_test : int array =\n",
       "  [|42; 705911; 1126827959; 2086707684; 740605848; 547269341; 283354103;\n",
       "    1361163739; 2083153546; 1135750598; 1725646067; 1166795351; 1656283517;\n",
       "    1474037822; 782322579; 1600698336; 1409287200; 1292827654; 314840449;\n",
       "    123720152; 600424385; 306981459; 1181661336; 253306713; 1013337054;\n",
       "    1610545885; 1560802424; 893592080; 1248945106; 1515230781; 1622650158;\n",
       "    986372270; 1532470714; 1463911744; 244537746; 1809680328; 486380252;\n",
       "    1270134899; 1169796330; 554130042; 1774522519; 147087314; 342808718;\n",
       "    2034982189; 1121088418; 111522565; 1754009788; 1134484564; 1922249099;\n",
       "    496621442; 1595123469; 54294352; 1992107753; 2084947958; 1229662024;\n",
       "    1694502304; 1719580478; 154172437; 1310870394; 763977402; 363470018;\n",
       "    1397100475; 481487044; 634366629; 1691109912; 538222956; 712100345;\n",
       "    344133701; 681651353; 1836516790; 555231216; 954601114; 130596278;\n",
       "    203357129; 1176784743; 2044270395; 461660429; 268413609; 1511867780;\n",
       "    935267173; 1602564235; 557196988; 1781076413; 776717775; 1890037976;\n",
       "    290156225; 1867794902; 112966085; 245446664; 2053479625; 622366455;\n",
       "    1867648312; 1944195249; 2125860855; 1657954863; 1647062633; 1117463018;\n",
       "    1456450528; 1545415607; 2132880048; 1517931029; 1908561707; 233374327;\n",
       "    1017174484; 1681722485; 1677527245; 2035088916; 767365460; 1471986002;\n",
       "    657122191; 1891751280; 1168369142; 189701443; 1446420370; 472274567;\n",
       "    419088274; 2017742622; 1285978194; 1160083167; 513756673; 1824142188;\n",
       "    881209161; 1435139232; 1996232784; 547383624; 56624837; 358379855;\n",
       "    1746076814; 948976660; 89678368; 1838294446; 367524550; 822143095;\n",
       "    849212884; 544623443; 910903004; 135868782; 771502330; 133399741;\n",
       "    76519536; 1868620663; 1106629330; 1910766307; 778864528; 1463293648;\n",
       "    593616509; 1851126465; 1286903183; 1673987761; 529039797; 989569616;\n",
       "    1583173761; 1079014814; 1650063647; 15897788; 906150705; 1868358075;\n",
       "    988280108; 1385249275; 1014347815; 1418536836; 2132637322; 1733402441;\n",
       "    531670702; 110033364; 347328698; 692874757; 1489706882; 2139209065;\n",
       "    515537398; 1688016205; 81896935; 2052252482; 1472610524; 416045210;\n",
       "    265089855; 1484109124; 399487180; 1147153755; 104977536; 1273373382;\n",
       "    1911888936; 319537308; 1754418073; 1554079618; 1720024929; 1181609453;\n",
       "    1528792779; 1925883962; 1458221767; 1249858422; 1832947264; 691749850;\n",
       "    1910747756; 467077871; 1125048129; 90392285; 952195583; 503026054;\n",
       "    1863255003; 1120294884; 1806982156; 235360035; 31230488; 904801965;\n",
       "    674921365; 394758118; 1122703660; 1489091095; 379611544; 2104788435;\n",
       "    1828593678; 535473946; 1754129509; 999151764; 1569061672; 120336161;\n",
       "    1707746117; 970046281; 2019480407; 428159631; 2008700784; 1791145865;\n",
       "    362789426; 695808966; 1412833664; 768705986; 379886367; 281287655;\n",
       "    990110555; 2084800946; 906314987; 334478355; 1613008303; 2144472457;\n",
       "    930537215; 1563055068; 99074142; 839278186; 1075878623; 479709038;\n",
       "    816190845; 1741478543; 975247255; 1385420898; 1751331929; 1224864938;\n",
       "    526772841; 1543545770; 771300647; 1038680854; 214546732; 261881428;\n",
       "    1247167710; 1707307267; 36745272; 1249979832; 1726001487; 697888350;\n",
       "    2001302200; 1997196103; 1705500528; 1883137604; 279720959; 428454647;\n",
       "    524583755; 1258799367; 1779554589; 969225571; 1110709319; 1763664726;\n",
       "    196270358; 181025131; 1652532582; 709099040; 1440808094; 636032303;\n",
       "    1768805419; 696551729; 1011549523; 1632283426; 1831434021; 1028478513;\n",
       "    542493305; 1616895637; 906901938; 1609429224; 2120433820; 640090792;\n",
       "    1260353338; 2127341422; 772040668; 591311919; 1772587981; 1993045500;\n",
       "    665792611; 1586612224; 887203986; 1258431598; ...|]\n"
      ]
     },
     "execution_count": 1,
     "metadata": {},
     "output_type": "execute_result"
    },
    {
     "data": {
      "text/plain": [
       "val u : int -> int = <fun>\n"
      ]
     },
     "execution_count": 1,
     "metadata": {},
     "output_type": "execute_result"
    },
    {
     "data": {
      "text/plain": [
       "val q1 : unit -> unit = <fun>\n"
      ]
     },
     "execution_count": 1,
     "metadata": {},
     "output_type": "execute_result"
    },
    {
     "data": {
      "text/plain": [
       "val v : int -> int -> int = <fun>\n"
      ]
     },
     "execution_count": 1,
     "metadata": {},
     "output_type": "execute_result"
    },
    {
     "data": {
      "text/plain": [
       "val q2 : unit -> unit = <fun>\n"
      ]
     },
     "execution_count": 1,
     "metadata": {},
     "output_type": "execute_result"
    }
   ],
   "source": [
    "open Printf\n",
    "\n",
    "let u0_test = 42\n",
    "\n",
    "let nmax = 50_000\n",
    "\n",
    "let m = 1 lsl 31 - 1\n",
    "\n",
    "let cree_tab u0 =\n",
    "  let u = Array.make nmax u0 in\n",
    "  for i = 1 to nmax - 1 do\n",
    "    u.(i) <- (16807 * u.(i - 1) + 17) mod m\n",
    "  done;\n",
    "  u\n",
    "\n",
    "let u_test = cree_tab u0_test\n",
    "\n",
    "let u i =\n",
    "  if i >= nmax then failwith \"nmax trop petit\"\n",
    "  else u_test.(i)\n",
    "\n",
    "let q1 () =\n",
    "  let f i = printf \"n = %d : %d\\n\" i (u i mod 101) in\n",
    "  List.iter f [5; 100; 997]\n",
    "\n",
    "\n",
    "let v k n =\n",
    "  1 lsl k + (u n land (1 lsl k - 1))\n",
    "\n",
    "let q2 ()  =\n",
    "  let f k = printf \"k = %d : %d\\n\" k (v k (97 * k mod 997) mod 101) in\n",
    "  List.iter f [5; 30; 61]"
   ]
  },
  {
   "cell_type": "markdown",
   "metadata": {},
   "source": [
    "## Représentation trichotomique\n",
    "\n",
    "Dans toute la suite, on note $\\log$ pour $\\log_2$.\n",
    "\n",
    "### Question pour l'oral 1\n",
    "\n",
    "Si $2^{k - 1} \\leq n < 2^k$, alors $n$ s'écrit sur $k$ bits exactement. Donc $\\boxed{l(n) = \\lfloor \\log n \\rfloor + 1.}$\n",
    "\n",
    "On a donc $\\boxed{l({\\bf x} (p)) = 2^p + 1.}$\n",
    "\n",
    "### Question pour l'oral 2\n",
    "\n",
    "Supposons $n = g + {\\bf x}(p) \\times d$ avec les conditions de l'énoncé. On a alors successivement :\n",
    "    $$\\begin{align*}\n",
    "        {\\bf x}(p) & \\leq n \\leq {\\bf x}(p) - 1 + {\\bf x}(p) \\left({\\bf x}(p) - 1\\right) \\\\\n",
    "        {\\bf x}(p) & \\leq n \\leq {\\bf x}(p)^2 - 1 \\\\\n",
    "        {\\bf x}(p) & \\leq n \\leq {\\bf x}(p + 1) - 1 \n",
    "    \\end{align*}$$\n",
    "    \n",
    "On en déduit que $p$ est uniquement déterminé. Ensuite, on a $g$ et $d$ qui sont respectivement les reste et quotient de la division euclidienne de $n$ par ${\\bf x}(p)$, donc eux aussi uniquement déterminés. Ainsi, l'application $(g, d) \\mapsto g + {\\bf x}(p) \\times d$ est injective de $A_p = [0..{\\bf x}(p)[ \\ \\times [1..{\\bf x} (p)[$ dans $B_p = [{\\bf x}(p).. {\\bf x}(p+1)[$. \n",
    "\n",
    "D'autre part, on a $|A_p| = {\\bf x}(p)({\\bf x}(p) - 1) = {\\bf x}(p)^2 - {\\bf x}(p) = {\\bf x}(p + 1) - {\\bf x}(p) = |B_p|$ et l'application est donc surjective, ce qui achève la preuve.\n",
    "\n",
    "### Question pour l'oral 3\n",
    "\n",
    "On continue à noter $B_p = [{\\bf x}(p).. {\\bf x}(p+1)[$.\n",
    "Si $n = g + {\\bf x}(p) \\times d \\in B_p$ avec $p \\geq 1$, alors $\\Pi(n) = 1 + \\max (\\Pi(g), \\Pi(p), \\Pi(d))$. Or $g, p$ et $d$ sont tous les trois inférieurs à ${\\bf x}(p - 1)$, ce qui montre que $\\max_{n < {\\bf x}(p + 1)} \\Pi(n) \\leq 1 + \\max_{n < {\\bf x}(p)} \\Pi(n)$. On a donc $n \\leq {\\bf x}(p) \\Rightarrow \\Pi(n) \\leq p$, on en déduit $\\boxed{\\Pi(n) \\leq \\log \\log n.}$\n",
    "\n",
    "Considérons $a_{k} = \\sum_{i = 0}^k {\\bf x}(i)$. On a $a_{k + 1} = a_k + {\\bf x}(k) \\times 1$, donc $\\Pi(a_{k + 1}) \\geq 1 + \\Pi(a_k)$ (c'est une égalité en fait), et $\\Pi(a_k) = k$. Or ${\\bf x}(k) \\leq a_k < {\\bf x}(k + 1)$ donc $k \\leq \\log \\log a_k \\leq k + 1$ : on a $\\boxed{\\Pi(a_k) \\sim \\log \\log a_k.}$"
   ]
  },
  {
   "cell_type": "markdown",
   "metadata": {},
   "source": [
    "### Question 3\n",
    "\n",
    "Pour l'instant, on va au plus simple (sans non plus faire n'importe quoi). On sera obligé d'être plus efficace dans la dernière partie du sujet."
   ]
  },
  {
   "cell_type": "code",
   "execution_count": 2,
   "metadata": {},
   "outputs": [
    {
     "data": {
      "text/plain": [
       "type tri = Z | U | N of tri * tri * tri\n"
      ]
     },
     "execution_count": 2,
     "metadata": {},
     "output_type": "execute_result"
    },
    {
     "data": {
      "text/plain": [
       "val impair : tri -> bool = <fun>\n"
      ]
     },
     "execution_count": 2,
     "metadata": {},
     "output_type": "execute_result"
    },
    {
     "data": {
      "text/plain": [
       "val signature : tri -> int = <fun>\n"
      ]
     },
     "execution_count": 2,
     "metadata": {},
     "output_type": "execute_result"
    },
    {
     "data": {
      "text/plain": [
       "val loglog : int -> int = <fun>\n"
      ]
     },
     "execution_count": 2,
     "metadata": {},
     "output_type": "execute_result"
    },
    {
     "data": {
      "text/plain": [
       "val tri_of_int : int -> tri = <fun>\n"
      ]
     },
     "execution_count": 2,
     "metadata": {},
     "output_type": "execute_result"
    },
    {
     "data": {
      "text/plain": [
       "val q3 : unit -> unit = <fun>\n"
      ]
     },
     "execution_count": 2,
     "metadata": {},
     "output_type": "execute_result"
    }
   ],
   "source": [
    "type tri = \n",
    "    | Z\n",
    "    | U\n",
    "    | N of tri * tri * tri\n",
    "    \n",
    "let rec impair = function\n",
    "    | Z -> false\n",
    "    | U -> true\n",
    "    | N (g, _, _) -> impair g\n",
    "    \n",
    "let rec signature = function\n",
    "    | Z -> 0\n",
    "    | U -> u 10 mod 97\n",
    "    | N (g, p, d) when impair p -> \n",
    "        (signature g + (u 20) * (signature d)) mod 97\n",
    "    | N (g, _, d) -> \n",
    "        (signature g + (u 30) * (signature d)) mod 97\n",
    "        \n",
    "let loglog n = \n",
    "    let p = ref 0 in\n",
    "    while 1 lsl !p < 62 && 1 lsl (1 lsl !p) <= n do\n",
    "        incr p\n",
    "    done;\n",
    "    !p - 1\n",
    "    \n",
    "let rec tri_of_int n = \n",
    "    if n = 0 then Z\n",
    "    else if n = 1 then U\n",
    "    else\n",
    "        let p = loglog n in\n",
    "        let xp = 1 lsl (1 lsl p) in\n",
    "        let g = tri_of_int (n land (xp - 1)) in\n",
    "        let mid = tri_of_int p in\n",
    "        let d = tri_of_int (n lsr (1 lsl p)) in\n",
    "        N (g, mid, d)\n",
    "        \n",
    "let q3 () = \n",
    "    let f (k, n) = \n",
    "        let t = tri_of_int (v k n) in\n",
    "        printf \"(%d, %d) : %d\\n\" k n (signature t) in\n",
    "    List.iter f [(1, 10); (2, 20); (32, 30); (61, 40)];\n",
    "    print_newline ()\n",
    "        "
   ]
  },
  {
   "cell_type": "code",
   "execution_count": 3,
   "metadata": {},
   "outputs": [
    {
     "name": "stdout",
     "output_type": "stream",
     "text": [
      "(1, 10) : 57\n",
      "(2, 20) : 65\n",
      "(32, 30) : 82\n",
      "(61, 40) : 54\n",
      "\n"
     ]
    },
    {
     "data": {
      "text/plain": [
       "- : unit = ()\n"
      ]
     },
     "execution_count": 3,
     "metadata": {},
     "output_type": "execute_result"
    }
   ],
   "source": [
    "q3 ()"
   ]
  },
  {
   "cell_type": "markdown",
   "metadata": {},
   "source": [
    "### Question 4\n",
    "\n",
    "Cette question est un peu absurde, car une récurrence immédiate montre que les ${\\bf h}(n)$ sont tous impairs, ce qui rend trivial le calcul de leur signature.\n",
    "\n",
    "On définit quand même une fonction pour construire les arbres correspondant, sous forme de DAG (c'est-à-dire que l'on veille à partager les sous-arbres identiques), ça servira peut-être plus tard.\n",
    "\n",
    "*En fait non, ça ne sert à rien.*"
   ]
  },
  {
   "cell_type": "code",
   "execution_count": 4,
   "metadata": {},
   "outputs": [
    {
     "data": {
      "text/plain": [
       "val h : int -> tri = <fun>\n"
      ]
     },
     "execution_count": 4,
     "metadata": {},
     "output_type": "execute_result"
    },
    {
     "data": {
      "text/plain": [
       "val signature_h : int -> int = <fun>\n"
      ]
     },
     "execution_count": 4,
     "metadata": {},
     "output_type": "execute_result"
    },
    {
     "data": {
      "text/plain": [
       "val q4 : unit -> unit = <fun>\n"
      ]
     },
     "execution_count": 4,
     "metadata": {},
     "output_type": "execute_result"
    }
   ],
   "source": [
    "let rec h n = \n",
    "    if n = 0 then U\n",
    "    else \n",
    "        let t = h (n - 1) in\n",
    "        N (t, t, t)\n",
    "\n",
    "let rec signature_h n = \n",
    "    if n = 0 then (u 10) mod 97\n",
    "    else \n",
    "        let s = signature_h (n - 1) in\n",
    "        (s + (u 20) * s) mod 97\n",
    "  \n",
    "let q4 () = \n",
    "    let f k = \n",
    "        let n = v k (7 * k) in\n",
    "        printf \"k = %d : %d\\n\" k (signature_h n) in\n",
    "    List.iter f [0; 2; 4; 8];\n",
    "    print_newline ()"
   ]
  },
  {
   "cell_type": "code",
   "execution_count": 5,
   "metadata": {},
   "outputs": [
    {
     "name": "stdout",
     "output_type": "stream",
     "text": [
      "k = 0 : 65\n",
      "k = 2 : 11\n",
      "k = 4 : 4\n",
      "k = 8 : 88\n",
      "\n"
     ]
    },
    {
     "data": {
      "text/plain": [
       "- : unit = ()\n"
      ]
     },
     "execution_count": 5,
     "metadata": {},
     "output_type": "execute_result"
    }
   ],
   "source": [
    "q4 ()"
   ]
  },
  {
   "cell_type": "markdown",
   "metadata": {},
   "source": [
    "### Question pour l'oral 5\n",
    "\n",
    "En supposant ${\\bf h}(n) \\geq p(n)$, on obtient \n",
    "    $$\\begin{align*}\n",
    "        {\\bf h}(n + 1) \n",
    "            & \\geq {\\bf x}({\\bf h}(n)) \\\\\n",
    "            & = 2^{2^{{\\bf h}(n)}} \\\\\n",
    "            & \\geq 2^{2^{2 \\uparrow \\uparrow p(n)}} \\\\\n",
    "            & = 2^{2 \\uparrow \\uparrow (p(n) + 1)} \\\\\n",
    "            & = 2 \\uparrow \\uparrow (p(n) + 2)\n",
    "        \\end{align*}$$\n",
    "\n",
    "Comme ${\\bf h}(0) = 2 \\times 0$, on en déduit immédiatement par récurrence que $\\boxed{{\\bf h}(n) \\geq 2 \\uparrow \\uparrow (2n).}$\n",
    "\n",
    "À partir de la définition de ${\\bf h}(n)$, on a :\n",
    "    $$\\begin{align*}\n",
    "        {\\bf l}({\\bf h}(n))\n",
    "            & = {\\bf l}\\Bigl({\\bf h}(n - 1) + {\\bf x}({\\bf h}(n - 1)) \\times {\\bf h}(n - 1)\\Bigr) \\\\\n",
    "            & = {\\bf l}\\Bigl({\\bf h}(n - 1) + 2^{2^{{\\bf h}(n - 1)}} \\times {\\bf h}(n - 1)\\Bigr) \n",
    "               \\\\\n",
    "            & = 2^{{\\bf h}(n - 1)} + {\\bf l}({\\bf h}(n - 1))\n",
    "              & \\text{décalage de } 2^{{\\bf h}(n - 1)} \\text{ vers la gauche}\n",
    "    \\end{align*}$$\n",
    "Comme de plus ${\\bf l}({\\bf h}(0)) = 1$, on obtient immédiatement la formule demandée par récurrence :\n",
    "    $$\\boxed{{\\bf l}({\\bf h}(n)) = 1 + \\sum_{0 \\leq k < n} 2^{{\\bf h}(k)}}$$\n",
    "\n",
    "En supposant par exemple que notre ordinateur dispose de $16Go = 2^{34} octets$ de RAM, on peut stocker jusqu'à $2^{37}$ chiffres binaires. En approchant ${\\bf l}({\\bf h}(n))$ par $2^{{\\bf h}(n - 1)} \\geq 2^{2 \\uparrow \\uparrow (2(n - 1))} = 2 \\uparrow \\uparrow (2n - 1)$, on a :\n",
    "- pour $n = 2$ : $2 \\uparrow \\uparrow 3 = 2^{2^2} = 16$ : OK\n",
    "- pour $n = 3$ : $2 \\uparrow \\uparrow 5 = 2^{2^{2 \\uparrow \\uparrow 3}} = 2^{2^{16}} = 2^{65536}$ un poil trop grand (juste un facteur $2^{65529}$...)\n",
    "\n",
    "Les ${\\bf h}(n)$ sont donc trop grands pour être représentés en binaire à partir de $\\boxed{n = 3.}$"
   ]
  },
  {
   "cell_type": "markdown",
   "metadata": {},
   "source": [
    "### Question 5\n",
    "\n",
    "Il serait très raisonnable de mémoriser les `gen k n` ici : il n'y en a pas tellement puisque $n$ varie entre 0 et 996 et $k$ atteint au maximum 61 (et encore, dans les toutes dernières questions du sujet). J'ai mis le code permettant de le faire, mais on ne s'en sert pas pour l'instant."
   ]
  },
  {
   "cell_type": "code",
   "execution_count": 6,
   "metadata": {},
   "outputs": [
    {
     "data": {
      "text/plain": [
       "val gen : int -> int -> tri = <fun>\n"
      ]
     },
     "execution_count": 6,
     "metadata": {},
     "output_type": "execute_result"
    },
    {
     "data": {
      "text/plain": [
       "val q5 : unit -> unit = <fun>\n"
      ]
     },
     "execution_count": 6,
     "metadata": {},
     "output_type": "execute_result"
    }
   ],
   "source": [
    "(*\n",
    "let cree_tab_gen kmax = \n",
    "    let nmax = 996 in\n",
    "    let t = Array.make_matrix (kmax + 1) (nmax + 1) Z in\n",
    "    for n = 0 to nmax do\n",
    "        if u n mod 7 <> 0 then t.(0).(n) <- U\n",
    "    done;\n",
    "    for k = 1 to kmax do\n",
    "        for n = 0 to nmax do\n",
    "            let k' = max 0 (k - 1 - (u n mod 2)) in\n",
    "            let g = t.(k').((n + 1) mod 997) in\n",
    "            let p = v k' n in\n",
    "            let d = t.(k').((n + 2) mod 997) in\n",
    "            if d = Z then t.(k).(n) <- g\n",
    "            else t.(k).(n) <- N (g, tri_of_int p, d)\n",
    "        done\n",
    "    done;\n",
    "    t\n",
    "\n",
    "let tab_gen = cree_tab_gen 14\n",
    "\n",
    "let gen k n = tab_gen.(k).(n)\n",
    "*)\n",
    "\n",
    "\n",
    "let rec gen k n =\n",
    "    match k, n with\n",
    "    | 0, _ when u n mod 7 = 0 -> Z\n",
    "    | 0, _ -> U\n",
    "    | _ ->\n",
    "        let k' = max 0 (k - 1 - (u n mod 2)) in\n",
    "        let g = gen k' ((n + 1) mod 997) in\n",
    "        let p = v k' n in\n",
    "        let d = gen k' ((n + 2) mod 997) in\n",
    "        if d = Z then g\n",
    "        else N (g, tri_of_int p, d)        \n",
    "\n",
    "\n",
    "let q5 () = \n",
    "    let f (k, n) = \n",
    "        let t = gen k n in\n",
    "        printf \"(%d, %d) : %d\" k n (signature t);\n",
    "        print_newline () in\n",
    "    List.iter f [(6, 35); (8, 45); (10, 55); (12, 65); (14, 75)];\n",
    "    print_newline ()"
   ]
  },
  {
   "cell_type": "code",
   "execution_count": 7,
   "metadata": {},
   "outputs": [
    {
     "name": "stdout",
     "output_type": "stream",
     "text": [
      "(6, 35) : 9\n",
      "(8, 45) : 62\n",
      "(10, 55) : 15\n",
      "(12, 65) : 66\n",
      "(14, 75) : 2\n",
      "\n"
     ]
    },
    {
     "data": {
      "text/plain": [
       "- : unit = ()\n"
      ]
     },
     "execution_count": 7,
     "metadata": {},
     "output_type": "execute_result"
    }
   ],
   "source": [
    "q5 ()"
   ]
  },
  {
   "cell_type": "markdown",
   "metadata": {},
   "source": [
    "### Question 6\n",
    "\n",
    "Il s'agit juste de recopier l'énoncé. C'est plus simple si l'on se souvient de la syntaxe des définitions mutuellement récursives..."
   ]
  },
  {
   "cell_type": "code",
   "execution_count": 8,
   "metadata": {},
   "outputs": [
    {
     "data": {
      "text/plain": [
       "val dec : tri -> tri = <fun>\n",
       "val x' : tri -> tri = <fun>\n"
      ]
     },
     "execution_count": 8,
     "metadata": {},
     "output_type": "execute_result"
    },
    {
     "data": {
      "text/plain": [
       "val q6 : unit -> unit = <fun>\n"
      ]
     },
     "execution_count": 8,
     "metadata": {},
     "output_type": "execute_result"
    }
   ],
   "source": [
    "let rec dec = function\n",
    "    | U -> Z\n",
    "    | Z -> failwith \"dec 0\"\n",
    "    | N (g, p, d) when g <> Z -> N (dec g, p, d)\n",
    "    | N (_, p, U) -> x' p\n",
    "    | N (_, p, d) -> N (x' p, p, dec d)\n",
    "and x' = function\n",
    "    | Z -> U\n",
    "    | p ->\n",
    "    let q = dec p in\n",
    "    let q' = x' q in\n",
    "    N (q', q, q')\n",
    "\n",
    "let q6 () =\n",
    "    let f k =\n",
    "        let t = gen k (19 * k mod 997) in\n",
    "        let s = signature (dec t) in\n",
    "        printf \"k = %d : %d\\n\" k s in\n",
    "    List.iter f [6; 16; 26];\n",
    "    print_newline ()"
   ]
  },
  {
   "cell_type": "code",
   "execution_count": 9,
   "metadata": {},
   "outputs": [
    {
     "name": "stdout",
     "output_type": "stream",
     "text": [
      "k = 6 : 63\n",
      "k = 16 : 93\n",
      "k = 26 : 37\n",
      "\n"
     ]
    },
    {
     "data": {
      "text/plain": [
       "- : unit = ()\n"
      ]
     },
     "execution_count": 9,
     "metadata": {},
     "output_type": "execute_result"
    }
   ],
   "source": [
    "q6 ()"
   ]
  },
  {
   "cell_type": "markdown",
   "metadata": {},
   "source": [
    "Comme le suggère l'énoncé, on va faire en sorte de pouvoir tester nos fonctions sur de petits exemples : c'est pratique autant pour se convaincre que le code est juste que pour comprendre pourquoi il ne l'est pas (si jamais on fait une erreur, ce qui ne vous arrivera bien sûr pas)."
   ]
  },
  {
   "cell_type": "code",
   "execution_count": 10,
   "metadata": {},
   "outputs": [
    {
     "data": {
      "text/plain": [
       "val int_of_tri : tri -> int = <fun>\n"
      ]
     },
     "execution_count": 10,
     "metadata": {},
     "output_type": "execute_result"
    },
    {
     "data": {
      "text/plain": [
       "val test_dec : int -> unit = <fun>\n"
      ]
     },
     "execution_count": 10,
     "metadata": {},
     "output_type": "execute_result"
    }
   ],
   "source": [
    "let rec int_of_tri = function\n",
    "    | Z -> 0\n",
    "    | U -> 1\n",
    "    | N (g, p, d) -> \n",
    "        int_of_tri g\n",
    "        + (int_of_tri d * 1 lsl (1 lsl int_of_tri p))      \n",
    "        \n",
    "let test_dec nmax = \n",
    "    let test n = (int_of_tri (dec (tri_of_int n)) = n - 1) in\n",
    "    for n = 1 to nmax do\n",
    "        assert (test n)\n",
    "    done;\n",
    "    printf \"OK jusqu'à n = %d\\n\" nmax;\n",
    "    print_newline ()"
   ]
  },
  {
   "cell_type": "code",
   "execution_count": 11,
   "metadata": {},
   "outputs": [
    {
     "name": "stdout",
     "output_type": "stream",
     "text": [
      "OK jusqu'à n = 10000\n",
      "\n"
     ]
    },
    {
     "data": {
      "text/plain": [
       "- : unit = ()\n"
      ]
     },
     "execution_count": 11,
     "metadata": {},
     "output_type": "execute_result"
    }
   ],
   "source": [
    "test_dec 10000"
   ]
  },
  {
   "cell_type": "markdown",
   "metadata": {},
   "source": [
    "### Question pour l'oral 5 et question 7\n",
    "\n",
    "Le principe est similaire à ${\\bf dec}$ en un peu plus simple. On remarque que ${\\bf x}(p) = 0 + {\\bf x}(p) \\times 1$ est représenté par `N (Z, p, U)`, et ensuite :\n",
    "- si $g \\neq {\\bf x}(p) - 1$, alors ${\\bf inc}(g + {\\bf x}(p) \\times d) = {\\bf inc}(g) + {\\bf x}(p) \\times d$\n",
    "- si $g = {\\bf x}(p) - 1$ et $d \\neq {\\bf x}(p) - 1$, alors ${\\bf inc}(g + {\\bf x}(p) \\times d) = 0 + {\\bf x}(p) \\times ({\\bf inc}(d))$ \n",
    "- sinon, alors ${\\bf inc}(g + {\\bf x}(p) \\times d) = 0 + {\\bf x}({\\bf inc}(p)) \\times 1$\n",
    "\n",
    "Pour la complexité :\n",
    "- au pire, on parcourt tout l'arbre en effectuant à chaque fois les trois appels récursifs ;\n",
    "- à chaque nœud, le coût est dominé par les deux tests d'égalité ; ce coût est majoré par le nombre de nœuds dans `N (Z, p, U)`, lui-même majoré par $3^p$ ;\n",
    "- le nombre de nœuds à profondeur $k$ est majoré par $3^k$, et un nœud à profondeur $k$ est de la forme `N (g, p', d)` avec $p' \\leq p - k$ (ou c'est une feuille, évidemment).\n",
    "\n",
    "On obtient donc \n",
    "$$\n",
    "    \\begin{align*}\n",
    "    T(g + {\\bf x}(p) \\times d) \n",
    "        & \\leq \\sum_{k = 0}^p 3^k 3^{p - k} \\\\\n",
    "        & = \\sum_{k = 0}^p 3^p \\\\\n",
    "        & = \\mathcal{O}\\left(p3^p\\right)\n",
    "    \\end{align*}\n",
    "$$\n",
    "Comme $p = \\mathcal{O}(\\log \\log n)$, on obtient \n",
    "$\\boxed{T(n) =} \\mathcal{O}\\left(\\log \\log n \\times 3^{\\log \\log n}\\right) \n",
    "= \\boxed{\\mathcal{O}\\left(\\log \\log n \\times (\\log n)^{\\log 3}\\right).}$ Cette complexité est surestimée car il semble clair que le nombre de nœuds est plutôt de l'ordre de $2^p$ que de $3^p$ (la branche du milieu ne peut pas être très grande) : on peut sans doute se débarrasser de la puissance $\\log 3$.\n",
    "\n",
    "\n",
    "\n"
   ]
  },
  {
   "cell_type": "code",
   "execution_count": 12,
   "metadata": {},
   "outputs": [
    {
     "data": {
      "text/plain": [
       "val inc : tri -> tri = <fun>\n"
      ]
     },
     "execution_count": 12,
     "metadata": {},
     "output_type": "execute_result"
    },
    {
     "data": {
      "text/plain": [
       "val q7 : unit -> unit = <fun>\n"
      ]
     },
     "execution_count": 12,
     "metadata": {},
     "output_type": "execute_result"
    }
   ],
   "source": [
    "let rec inc = function\n",
    "    | Z -> U\n",
    "    | U -> N (Z, Z, U)\n",
    "    | N (g, p, d) ->\n",
    "        let g' = inc g in\n",
    "        if g' <> N (Z, p, U) then N (g', p, d)\n",
    "        else \n",
    "            let d' = inc d in\n",
    "            if d' <> N (Z, p, U) then N (Z, p, d')\n",
    "            else N (Z, inc p, U)\n",
    "            \n",
    "let q7 () = \n",
    "    let f k = \n",
    "        let t = inc (gen k (17 * k mod 997)) in\n",
    "        printf \"k = %d -> %d\\n\" k (signature t) in\n",
    "    List.iter f [6; 7; 16];\n",
    "    print_newline ()"
   ]
  },
  {
   "cell_type": "code",
   "execution_count": 13,
   "metadata": {},
   "outputs": [
    {
     "name": "stdout",
     "output_type": "stream",
     "text": [
      "k = 6 -> 19\n",
      "k = 7 -> 96\n",
      "k = 16 -> 30\n",
      "\n"
     ]
    },
    {
     "data": {
      "text/plain": [
       "- : unit = ()\n"
      ]
     },
     "execution_count": 13,
     "metadata": {},
     "output_type": "execute_result"
    }
   ],
   "source": [
    "q7 ()"
   ]
  },
  {
   "cell_type": "code",
   "execution_count": 14,
   "metadata": {},
   "outputs": [
    {
     "data": {
      "text/plain": [
       "val test_inc : int -> unit = <fun>\n"
      ]
     },
     "execution_count": 14,
     "metadata": {},
     "output_type": "execute_result"
    },
    {
     "name": "stdout",
     "output_type": "stream",
     "text": [
      "OK jusqu'à n = 10000\n",
      "\n"
     ]
    }
   ],
   "source": [
    "let test_inc nmax = \n",
    "    let test n = (int_of_tri (inc (tri_of_int n)) = n + 1) in\n",
    "    for n = 0 to nmax do\n",
    "        assert (test n)\n",
    "    done;\n",
    "    printf \"OK jusqu'à n = %d\\n\" nmax;\n",
    "    print_newline ()\n",
    "    \n",
    "let () = test_inc 10000"
   ]
  },
  {
   "cell_type": "markdown",
   "metadata": {},
   "source": [
    "### Question 8\n",
    "\n",
    "Pas de difficulté particulière : $p$ est plus significatif que $d$ qui est plus significatif que $g$."
   ]
  },
  {
   "cell_type": "code",
   "execution_count": 15,
   "metadata": {},
   "outputs": [
    {
     "data": {
      "text/plain": [
       "val compare : tri -> tri -> int = <fun>\n"
      ]
     },
     "execution_count": 15,
     "metadata": {},
     "output_type": "execute_result"
    },
    {
     "data": {
      "text/plain": [
       "val q8 : unit -> unit = <fun>\n"
      ]
     },
     "execution_count": 15,
     "metadata": {},
     "output_type": "execute_result"
    }
   ],
   "source": [
    "let rec compare t t' = \n",
    "    match t, t' with\n",
    "    | Z, Z | U, U -> 0\n",
    "    | _, Z -> 1\n",
    "    | Z, _ -> -1\n",
    "    | _, U -> 1    \n",
    "    | U, _ -> -1\n",
    "    | N (g, p, d), N (g', p', d') ->\n",
    "        let x = compare p p' in\n",
    "        if x <> 0 then x\n",
    "        else\n",
    "            let y = compare d d' in\n",
    "            if y <> 0 then y \n",
    "            else compare g g'\n",
    " \n",
    " let q8 () =\n",
    "    let f k =\n",
    "        let t = gen k (29 * k mod 997) in\n",
    "        let t' = gen k (31 * k mod 997) in\n",
    "        printf \"k = %d : %d\\n\" k (compare t t') in\n",
    "    List.iter f [6; 8; 16];\n",
    "    print_newline ()"
   ]
  },
  {
   "cell_type": "code",
   "execution_count": 16,
   "metadata": {},
   "outputs": [
    {
     "name": "stdout",
     "output_type": "stream",
     "text": [
      "k = 6 : 1\n",
      "k = 8 : -1\n",
      "k = 16 : -1\n",
      "\n"
     ]
    },
    {
     "data": {
      "text/plain": [
       "- : unit = ()\n"
      ]
     },
     "execution_count": 16,
     "metadata": {},
     "output_type": "execute_result"
    }
   ],
   "source": [
    "q8 ()"
   ]
  },
  {
   "cell_type": "code",
   "execution_count": 17,
   "metadata": {},
   "outputs": [
    {
     "data": {
      "text/plain": [
       "val teste_compare : int -> unit = <fun>\n"
      ]
     },
     "execution_count": 17,
     "metadata": {},
     "output_type": "execute_result"
    },
    {
     "name": "stdout",
     "output_type": "stream",
     "text": [
      "OK jusqu'à 1000\n",
      "\n"
     ]
    }
   ],
   "source": [
    "let teste_compare nmax = \n",
    "    let tri = tri_of_int in\n",
    "    for i = 0 to nmax do\n",
    "        assert (compare (tri i) (tri i) = 0);\n",
    "        for j = i + 1 to nmax do\n",
    "            assert (compare (tri i) (tri j) = -1);\n",
    "            assert (compare (tri j) (tri i) = 1)\n",
    "        done\n",
    "    done;\n",
    "    printf \"OK jusqu'à %d\\n\" nmax;\n",
    "    print_newline ()\n",
    "    \n",
    "let () = teste_compare 1000    "
   ]
  },
  {
   "cell_type": "markdown",
   "metadata": {},
   "source": [
    "### Question pour l'oral 6 et question 9\n",
    "\n",
    "On a :\n",
    "- $(g + {\\bf x}(p) \\times d) + (g' + {\\bf x}(p) \\times d') = (g + g') + {\\bf x}(p) \\times (d + d')$, qu'il faut ensuite normaliser ;\n",
    "- si $p < p'$, alors $\\underbrace{g + {\\bf x}(p) \\times d }_{n} + g' + {\\bf x}(p') \\times d' \n",
    "= (n + g') + {\\bf x}(p') \\times d'$ qu'il faut également normaliser ;\n",
    "- des cas de base qui ne posent pas de problème.\n",
    "\n",
    "L'opérateur de normalisation à droite donné par l'énoncé est faux : dans le deuxième cas, $dg$ peut être nul auquel cas $g + {\\bf x}(p) \\times dg$ n'est pas en forme normale. On a rajouté un appel à `normd` et le cas `(g, p, Z) -> g`. Si on ne le fait pas, on obtient les bons résultats sur les exemples de l'énoncé mais `tri_of_int 2 ++ tri_of_int 2` est faux..."
   ]
  },
  {
   "cell_type": "code",
   "execution_count": 18,
   "metadata": {},
   "outputs": [
    {
     "data": {
      "text/plain": [
       "val ( ++ ) : tri -> tri -> tri = <fun>\n",
       "val norm : tri * tri * tri -> tri = <fun>\n",
       "val normd : tri * tri * tri -> tri = <fun>\n"
      ]
     },
     "execution_count": 18,
     "metadata": {},
     "output_type": "execute_result"
    },
    {
     "data": {
      "text/plain": [
       "val q9 : unit -> unit = <fun>\n"
      ]
     },
     "execution_count": 18,
     "metadata": {},
     "output_type": "execute_result"
    }
   ],
   "source": [
    "let rec (++) t t' = \n",
    "    match t, t' with\n",
    "    | Z, x | x, Z -> x\n",
    "    | U, x | x, U -> inc x\n",
    "    | N (g, p, d), N (g', p', d') ->\n",
    "        if compare p p' = 0 then norm (g ++ g', p, d ++ d')\n",
    "        else if compare p p' = 1 then norm (g ++ t', p, d)\n",
    "        else norm (g' ++ t, p', d')\n",
    "and norm = function\n",
    "    | (N (gg, gp, gd), p, d) as t ->\n",
    "        let x = compare gp p in\n",
    "        if x = -1 then normd t\n",
    "        else if x = 0 then normd (gg, p, gd ++ d)\n",
    "        else norm (norm (gg, p, d), gp, gd)\n",
    "    | g, p, d -> normd (g, p, d)\n",
    "and normd = function\n",
    "    | (g, p, N (dg, dp, dd)) ->\n",
    "        let x = compare dp p in\n",
    "        if x = -1 then N (g, p, N (dg, dp, dd))\n",
    "        else if x = 0 then N (normd (g, p, dg), inc p, dd)\n",
    "        else norm (normd (g, p, dg), dp, normd (Z, p, dd))\n",
    "    | (g, p, Z) -> g\n",
    "    | (g, p, U) -> N (g, p, U)\n",
    "    \n",
    "let q9 () =\n",
    "    let f k =\n",
    "        let t = gen k (41 * k mod 997) in\n",
    "        let t' = gen k (43 * k mod 997) in\n",
    "        let x = signature (t ++ t') in\n",
    "        printf \"k = %d : %d\\n\" k x in\n",
    "    List.iter f [6; 12; 16];\n",
    "    print_newline ()"
   ]
  },
  {
   "cell_type": "code",
   "execution_count": 19,
   "metadata": {},
   "outputs": [
    {
     "name": "stdout",
     "output_type": "stream",
     "text": [
      "k = 6 : 38\n",
      "k = 12 : 45\n",
      "k = 16 : 59\n",
      "\n"
     ]
    },
    {
     "data": {
      "text/plain": [
       "- : unit = ()\n"
      ]
     },
     "execution_count": 19,
     "metadata": {},
     "output_type": "execute_result"
    }
   ],
   "source": [
    "q9 ()"
   ]
  },
  {
   "cell_type": "code",
   "execution_count": 20,
   "metadata": {},
   "outputs": [
    {
     "data": {
      "text/plain": [
       "val teste_add : int -> unit = <fun>\n"
      ]
     },
     "execution_count": 20,
     "metadata": {},
     "output_type": "execute_result"
    },
    {
     "name": "stdout",
     "output_type": "stream",
     "text": [
      "OK jusqu'à 256\n"
     ]
    }
   ],
   "source": [
    "let teste_add nmax = \n",
    "    let teste x y = (tri_of_int x ++ tri_of_int y = tri_of_int (x + y)) in\n",
    "    for x = 1 to nmax do\n",
    "        for y = 1 to nmax do\n",
    "            assert (teste x y)\n",
    "        done\n",
    "    done;\n",
    "    printf \"OK jusqu'à %d\" nmax;\n",
    "    print_newline ()\n",
    "\n",
    "let () = teste_add 256"
   ]
  },
  {
   "cell_type": "markdown",
   "metadata": {},
   "source": [
    "### Question pour l'oral 7 et question 10\n",
    "\n",
    "On note $\\otimes$ l'opérateur ${\\bf mul}$.\n",
    "- Quand $p = p'$ :\n",
    "    $$\\begin{align*}\n",
    "    (g + {\\bf x}(p) \\times d) \\otimes (g' + {\\bf x}(p) \\times d') \n",
    "        & = g\\otimes g' + {\\bf x}(p) \\times (g\\otimes d' + g'\\otimes d + {\\bf x}(p) \\times d\\otimes d') \\\\\n",
    "        & = \\underbrace{g\\otimes g' + {\\bf x}(p) \\times (g\\otimes d' + g'\\otimes d)}_{g''} + {\\bf x}(p + 1) \\times \\underbrace{d\\otimes d'}_{d''}\n",
    "           & \\text{car } {\\bf x}(p)^2 = {\\bf x}(p + 1)\n",
    "      \\end{align*}$$\n",
    "- Quand $p < p'$ :\n",
    "    $$\\begin{align*}\n",
    "    (g + {\\bf x}(p) \\times d) \\otimes (g' + {\\bf x}(p') \\times d') \n",
    "        & = \\underbrace{(g + {\\bf x}(p) \\times d) \\otimes g'}_{g''} \n",
    "           + {\\bf x}(p') \\times \\underbrace{(g\\otimes d' + {\\bf x}(p) \\times d\\otimes d')}_{d''}\n",
    "      \\end{align*}$$\n",
    "\n",
    "On normalise partout où c'est nécessaire (et peut-être même à certains endroits où ça ne l'est pas, ce n'est pas très grave)."
   ]
  },
  {
   "cell_type": "code",
   "execution_count": 21,
   "metadata": {},
   "outputs": [
    {
     "data": {
      "text/plain": [
       "val ( ** ) : tri -> tri -> tri = <fun>\n"
      ]
     },
     "execution_count": 21,
     "metadata": {},
     "output_type": "execute_result"
    },
    {
     "data": {
      "text/plain": [
       "val q10 : unit -> unit = <fun>\n"
      ]
     },
     "execution_count": 21,
     "metadata": {},
     "output_type": "execute_result"
    }
   ],
   "source": [
    "let rec ( ** ) t t' = \n",
    "    match t, t' with\n",
    "    | Z, _ | _, Z -> Z\n",
    "    | U, x | x, U -> x\n",
    "    | N (g, p, d), N (g', p', d') ->\n",
    "        let x = compare p p' in\n",
    "        if x < 0 then\n",
    "            let g'' = t ** g' in\n",
    "            let d'' = norm (g ** d', p, d ** d') in\n",
    "            norm (g'', p', d'')\n",
    "        else if x = 0 then\n",
    "            let g'' = norm (g ** g', p, g ** d' ++ g' ** d) in\n",
    "            let d'' = d ** d' in\n",
    "            norm (g'', inc p, d'')\n",
    "        else t' ** t\n",
    "        \n",
    "let q10 () =\n",
    "    let f k =\n",
    "        let t = gen k (41 * k mod 997) in\n",
    "        let t' = gen k (43 * k mod 997) in\n",
    "        let x = signature (t ** t') in\n",
    "        printf \"k = %d : %d\\n\" k x in\n",
    "    List.iter f [5; 8; 10];\n",
    "    print_newline ()\n",
    "      "
   ]
  },
  {
   "cell_type": "code",
   "execution_count": 22,
   "metadata": {},
   "outputs": [
    {
     "name": "stdout",
     "output_type": "stream",
     "text": [
      "k = 5 : 33\n",
      "k = 8 : 56\n",
      "k = 10 : 57\n",
      "\n"
     ]
    },
    {
     "data": {
      "text/plain": [
       "- : unit = ()\n"
      ]
     },
     "execution_count": 22,
     "metadata": {},
     "output_type": "execute_result"
    }
   ],
   "source": [
    "q10 ()"
   ]
  },
  {
   "cell_type": "code",
   "execution_count": 23,
   "metadata": {},
   "outputs": [
    {
     "data": {
      "text/plain": [
       "val teste_mul : int -> unit = <fun>\n"
      ]
     },
     "execution_count": 23,
     "metadata": {},
     "output_type": "execute_result"
    },
    {
     "name": "stdout",
     "output_type": "stream",
     "text": [
      "OK jusqu'à 256\n"
     ]
    }
   ],
   "source": [
    "let teste_mul nmax = \n",
    "    let teste x y = (tri_of_int x ** tri_of_int y = tri_of_int (x * y)) in\n",
    "    for x = 1 to nmax do\n",
    "        for y = 1 to nmax do\n",
    "            assert (teste x y)\n",
    "        done\n",
    "    done;\n",
    "    printf \"OK jusqu'à %d\" nmax;\n",
    "    print_newline ()\n",
    "\n",
    "let () = teste_mul 256"
   ]
  },
  {
   "cell_type": "markdown",
   "metadata": {},
   "source": [
    "## Représentation compacte & calcul efficace\n",
    "\n",
    "### Question 11\n",
    "\n",
    "Le calcul de ${\\bf t}$ ne pose aucun problème, pour celui de ${\\bf s}$ il faut choisir une représentation raisonnable pour un ensemble. Deux choix a priori :\n",
    "- soit un ABR (dont on espère qu'il sera raisonnablement équilibré)\n",
    "- soit une table de hachage (type `(tri, unit) Hashtbl.t`, on s'intéresse uniquement à la présence ou à l'absence d'une clé donc pas de valeur associée).\n",
    "\n",
    "Si l'on veut éviter que le calcul ne prenne trop longtemps (sans non plus anticiper sur les questions suivantes), il faut vérifier que le nœud actuel n'est pas déjà connu avant de traiter ses enfants."
   ]
  },
  {
   "cell_type": "code",
   "execution_count": 24,
   "metadata": {},
   "outputs": [
    {
     "data": {
      "text/plain": [
       "val nb_noeuds : tri -> int = <fun>\n"
      ]
     },
     "execution_count": 24,
     "metadata": {},
     "output_type": "execute_result"
    },
    {
     "data": {
      "text/plain": [
       "type abr = Vide | Noeud of tri * abr * abr\n"
      ]
     },
     "execution_count": 24,
     "metadata": {},
     "output_type": "execute_result"
    },
    {
     "data": {
      "text/plain": [
       "val insere : tri -> abr -> abr * bool = <fun>\n"
      ]
     },
     "execution_count": 24,
     "metadata": {},
     "output_type": "execute_result"
    },
    {
     "data": {
      "text/plain": [
       "val cardinal : abr -> int = <fun>\n"
      ]
     },
     "execution_count": 24,
     "metadata": {},
     "output_type": "execute_result"
    },
    {
     "data": {
      "text/plain": [
       "val nb_parties : tri -> int = <fun>\n"
      ]
     },
     "execution_count": 24,
     "metadata": {},
     "output_type": "execute_result"
    },
    {
     "data": {
      "text/plain": [
       "val q11 : unit -> unit = <fun>\n"
      ]
     },
     "execution_count": 24,
     "metadata": {},
     "output_type": "execute_result"
    },
    {
     "data": {
      "text/plain": [
       "val nb_parties_hash : tri -> int = <fun>\n"
      ]
     },
     "execution_count": 24,
     "metadata": {},
     "output_type": "execute_result"
    },
    {
     "data": {
      "text/plain": [
       "val q11_hash : unit -> unit = <fun>\n"
      ]
     },
     "execution_count": 24,
     "metadata": {},
     "output_type": "execute_result"
    }
   ],
   "source": [
    "let rec nb_noeuds = function\n",
    "    | Z | U -> 0\n",
    "    | N (g, p, d) -> 1 + nb_noeuds g + nb_noeuds p + nb_noeuds d\n",
    "\n",
    "type abr = \n",
    "    | Vide\n",
    "    | Noeud of tri * abr * abr\n",
    "    \n",
    "(* Renvoie le nouvel arbre, et un booléen indiquant s'il y a eu modification *)    \n",
    "let rec insere t = function\n",
    "    | Vide -> (Noeud (t, Vide, Vide), true)\n",
    "    | Noeud (t', g, d) ->\n",
    "        let x = compare t t' in\n",
    "        if x = 0 then (Noeud (t', g, d), false)\n",
    "        else if x < 0 then \n",
    "            let g', b = insere t g in \n",
    "            (Noeud (t', g', d), b)\n",
    "        else \n",
    "            let d', b = insere t d in\n",
    "            (Noeud (t', g, d'), b)\n",
    "        \n",
    "let rec cardinal = function\n",
    "    | Vide -> 0\n",
    "    | Noeud (_, g, d) -> 1 + cardinal g + cardinal d\n",
    "    \n",
    "let nb_parties t = \n",
    "    let rec aux foret ensemble = \n",
    "        match foret with\n",
    "        | [] -> ensemble\n",
    "        | Z :: xs | U :: xs -> aux xs ensemble\n",
    "        | (N (g, p, d) as t) :: xs -> \n",
    "            let ensemble', b = insere t ensemble in\n",
    "            if b then aux (g :: p :: d :: xs) ensemble'\n",
    "            else aux xs ensemble' in\n",
    "    cardinal (aux [t] Vide)\n",
    "    \n",
    "let q11 () = \n",
    "    let f k = \n",
    "        let t = gen k (23 * k mod 997) in\n",
    "        printf \"k = %d -> (s = %d, t = %d)\" k (nb_parties t) (nb_noeuds t);\n",
    "        print_newline () in\n",
    "    List.iter f [8; 16; 24; 32];\n",
    "    print_newline ()\n",
    "    \n",
    "let nb_parties_hash t = \n",
    "    let h = Hashtbl.create 1000 in\n",
    "    let rec traite = function\n",
    "        | Z | U -> ()\n",
    "        | N (g, p, d) as t ->\n",
    "            if not (Hashtbl.mem h t) then begin\n",
    "                Hashtbl.add h t ();\n",
    "                traite g;\n",
    "                traite p;\n",
    "                traite d\n",
    "            end in\n",
    "    traite t;\n",
    "    Hashtbl.length h\n",
    "    \n",
    "let q11_hash () = \n",
    "    let f k = \n",
    "        let t = gen k (23 * k mod 997) in\n",
    "        printf \"k = %d -> (s = %d, t = %d)\" k (nb_parties_hash t) (nb_noeuds t);\n",
    "        print_newline () in\n",
    "    List.iter f [8; 16; 24; 32];\n",
    "    print_newline ()\n",
    "    "
   ]
  },
  {
   "cell_type": "code",
   "execution_count": 25,
   "metadata": {},
   "outputs": [
    {
     "name": "stdout",
     "output_type": "stream",
     "text": [
      "k = 8 -> (s = 28, t = 102)\n",
      "k = 16 -> (s = 137, t = 4687)\n",
      "k = 24 -> (s = 334, t = 323015)\n",
      "k = 32 -> (s = 710, t = 11251450)\n",
      "\n"
     ]
    },
    {
     "data": {
      "text/plain": [
       "- : unit = ()\n"
      ]
     },
     "execution_count": 25,
     "metadata": {},
     "output_type": "execute_result"
    }
   ],
   "source": [
    "q11 () "
   ]
  },
  {
   "cell_type": "code",
   "execution_count": 26,
   "metadata": {},
   "outputs": [
    {
     "name": "stdout",
     "output_type": "stream",
     "text": [
      "k = 8 -> (s = 28, t = 102)\n",
      "k = 16 -> (s = 137, t = 4687)\n",
      "k = 24 -> (s = 334, t = 323015)\n",
      "k = 32 -> (s = 710, t = 11251450)\n",
      "\n"
     ]
    },
    {
     "data": {
      "text/plain": [
       "- : unit = ()\n"
      ]
     },
     "execution_count": 26,
     "metadata": {},
     "output_type": "execute_result"
    }
   ],
   "source": [
    "q11_hash () "
   ]
  },
  {
   "cell_type": "markdown",
   "metadata": {},
   "source": [
    "### Question pour l'oral 8\n",
    "\n",
    "On voit que le nombre de nœuds distincts est très petit devant le nombre total de nœuds. Il faut donc représenter les entiers comme des DAG et non comme des arbres, en s'assurant de partager tous les sous-arbres communs. \n",
    "\n",
    "La meilleure manière de faire cela est d'utiliser la technique appelée *hash-consing*, qui revient essentiellement à mémoïser les constructeurs :\n",
    "- chaque nœud se voit attribuer un identifiant (entier) unique au moment de sa création ; deux nœuds sont égaux si et seulement si ils ont le même identifiant (le test d'égalité est donc en temps constant).\n",
    "- un noeud est soit une feuille, soit un triplet contenant les *identifiants* de ses trois fils.\n",
    "- on maintient un dictionnaire associant à chaque noeud déjà contruit son identifiant.\n",
    "- quand on souhaite créer un nouveau noeud, on commence par le chercher dans le dictionnaire : s'il y est, on renvoie l'identifiant (en on ne crée donc pas de nouceau noeud) ; sinon, on le crée."
   ]
  },
  {
   "cell_type": "code",
   "execution_count": 27,
   "metadata": {},
   "outputs": [
    {
     "data": {
      "text/plain": [
       "module H = Hashtbl\n"
      ]
     },
     "execution_count": 27,
     "metadata": {},
     "output_type": "execute_result"
    },
    {
     "data": {
      "text/plain": [
       "val taille : int = 1000000\n"
      ]
     },
     "execution_count": 27,
     "metadata": {},
     "output_type": "execute_result"
    },
    {
     "data": {
      "text/plain": [
       "type id = Id of int\n"
      ]
     },
     "execution_count": 27,
     "metadata": {},
     "output_type": "execute_result"
    },
    {
     "data": {
      "text/plain": [
       "type tri_hash_consed = Zh | Uh | Th of id * id * id\n"
      ]
     },
     "execution_count": 27,
     "metadata": {},
     "output_type": "execute_result"
    },
    {
     "data": {
      "text/plain": [
       "val id : id -> int = <fun>\n"
      ]
     },
     "execution_count": 27,
     "metadata": {},
     "output_type": "execute_result"
    },
    {
     "data": {
      "text/plain": [
       "val tab_hash : ('_weak1, '_weak2) H.t = <abstr>\n"
      ]
     },
     "execution_count": 27,
     "metadata": {},
     "output_type": "execute_result"
    },
    {
     "data": {
      "text/plain": [
       "val tab_noeuds : tri_hash_consed array =\n",
       "  [|Zh; Uh; Zh; Zh; Zh; Zh; Zh; Zh; Zh; Zh; Zh; Zh; Zh; Zh; Zh; Zh; Zh; Zh;\n",
       "    Zh; Zh; Zh; Zh; Zh; Zh; Zh; Zh; Zh; Zh; Zh; Zh; Zh; Zh; Zh; Zh; Zh; Zh;\n",
       "    Zh; Zh; Zh; Zh; Zh; Zh; Zh; Zh; Zh; Zh; Zh; Zh; Zh; Zh; Zh; Zh; Zh; Zh;\n",
       "    Zh; Zh; Zh; Zh; Zh; Zh; Zh; Zh; Zh; Zh; Zh; Zh; Zh; Zh; Zh; Zh; Zh; Zh;\n",
       "    Zh; Zh; Zh; Zh; Zh; Zh; Zh; Zh; Zh; Zh; Zh; Zh; Zh; Zh; Zh; Zh; Zh; Zh;\n",
       "    Zh; Zh; Zh; Zh; Zh; Zh; Zh; Zh; Zh; Zh; Zh; Zh; Zh; Zh; Zh; Zh; Zh; Zh;\n",
       "    Zh; Zh; Zh; Zh; Zh; Zh; Zh; Zh; Zh; Zh; Zh; Zh; Zh; Zh; Zh; Zh; Zh; Zh;\n",
       "    Zh; Zh; Zh; Zh; Zh; Zh; Zh; Zh; Zh; Zh; Zh; Zh; Zh; Zh; Zh; Zh; Zh; Zh;\n",
       "    Zh; Zh; Zh; Zh; Zh; Zh; Zh; Zh; Zh; Zh; Zh; Zh; Zh; Zh; Zh; Zh; Zh; Zh;\n",
       "    Zh; Zh; Zh; Zh; Zh; Zh; Zh; Zh; Zh; Zh; Zh; Zh; Zh; Zh; Zh; Zh; Zh; Zh;\n",
       "    Zh; Zh; Zh; Zh; Zh; Zh; Zh; Zh; Zh; Zh; Zh; Zh; Zh; Zh; Zh; Zh; Zh; Zh;\n",
       "    Zh; Zh; Zh; Zh; Zh; Zh; Zh; Zh; Zh; Zh; Zh; Zh; Zh; Zh; Zh; Zh; Zh; Zh;\n",
       "    Zh; Zh; Zh; Zh; Zh; Zh; Zh; Zh; Zh; Zh; Zh; Zh; Zh; Zh; Zh; Zh; Zh; Zh;\n",
       "    Zh; Zh; Zh; Zh; Zh; Zh; Zh; Zh; Zh; Zh; Zh; Zh; Zh; Zh; Zh; Zh; Zh; Zh;\n",
       "    Zh; Zh; Zh; Zh; Zh; Zh; Zh; Zh; Zh; Zh; Zh; Zh; Zh; Zh; Zh; Zh; Zh; Zh;\n",
       "    Zh; Zh; Zh; Zh; Zh; Zh; Zh; Zh; Zh; Zh; Zh; Zh; Zh; Zh; Zh; Zh; Zh; Zh;\n",
       "    Zh; Zh; Zh; Zh; Zh; Zh; Zh; Zh; Zh; Zh; Zh; ...|]\n"
      ]
     },
     "execution_count": 27,
     "metadata": {},
     "output_type": "execute_result"
    },
    {
     "data": {
      "text/plain": [
       "val id_zero : id = Id 0\n"
      ]
     },
     "execution_count": 27,
     "metadata": {},
     "output_type": "execute_result"
    },
    {
     "data": {
      "text/plain": [
       "val id_un : id = Id 1\n"
      ]
     },
     "execution_count": 27,
     "metadata": {},
     "output_type": "execute_result"
    },
    {
     "data": {
      "text/plain": [
       "val invalide : id = Id (-1)\n"
      ]
     },
     "execution_count": 27,
     "metadata": {},
     "output_type": "execute_result"
    },
    {
     "data": {
      "text/plain": [
       "val next : int ref = {contents = 2}\n"
      ]
     },
     "execution_count": 27,
     "metadata": {},
     "output_type": "execute_result"
    },
    {
     "data": {
      "text/plain": [
       "val construit : id -> id -> id -> id = <fun>\n"
      ]
     },
     "execution_count": 27,
     "metadata": {},
     "output_type": "execute_result"
    },
    {
     "data": {
      "text/plain": [
       "val get_noeud : id -> tri_hash_consed = <fun>\n"
      ]
     },
     "execution_count": 27,
     "metadata": {},
     "output_type": "execute_result"
    }
   ],
   "source": [
    "module H = Hashtbl\n",
    "\n",
    "let taille = 1_000_000\n",
    "\n",
    "type id = Id of int\n",
    "type tri_hash_consed = \n",
    "    | Zh \n",
    "    | Uh \n",
    "    | Th of id * id * id\n",
    "    \n",
    "let id (Id i) = i\n",
    "\n",
    "\n",
    "let tab_hash = H.create taille   \n",
    "\n",
    "let tab_noeuds = \n",
    "    let t = Array.make taille Zh in\n",
    "    t.(1) <- Uh;\n",
    "    H.add tab_hash Zh (Id 0);\n",
    "    H.add tab_hash Uh (Id 1);\n",
    "    t\n",
    "\n",
    "let id_zero = Id 0\n",
    "let id_un = Id 1\n",
    "let invalide = Id (-1)\n",
    "\n",
    "let next = ref 2\n",
    "    \n",
    "let construit g p d = \n",
    "    try \n",
    "        H.find tab_hash (Th (g, p, d)) \n",
    "    with\n",
    "        Not_found -> \n",
    "            if !next >= taille then failwith \n",
    "                \"Échec de la construction : tableau trop petit.\";\n",
    "            tab_noeuds.(!next) <- Th (g, p, d);\n",
    "            H.add tab_hash (Th (g, p, d)) (Id !next);\n",
    "            incr next;\n",
    "            Id (!next - 1)\n",
    "    \n",
    "let get_noeud (Id i) = \n",
    "    assert (i >= 2 || i < !next);\n",
    "    tab_noeuds.(i)"
   ]
  },
  {
   "cell_type": "code",
   "execution_count": 28,
   "metadata": {},
   "outputs": [
    {
     "data": {
      "text/plain": [
       "val tab_gen : id array array =\n",
       "  [|[|Id 0; Id 1; Id 1; Id 1; Id 1; Id 1; Id 1; Id 1; Id 1; Id 1; Id 1; \n",
       "      Id 1; Id 0; Id 1; Id 1; Id 1; Id 1; Id 1; Id 0; Id 1; Id 1; Id 1; \n",
       "      Id 1; Id 1; Id 1; Id 1; Id 1; Id 1; Id 1; Id 1; Id 1; Id 1; Id 1; \n",
       "      Id 1; Id 1; Id 1; Id 1; Id 1; Id 1; Id 1; Id 0; Id 1; Id 0; Id 1; \n",
       "      Id 1; Id 0; Id 1; Id 1; Id 1; Id 1; Id 1; Id 0; Id 1; Id 1; Id 1; \n",
       "      Id 1; Id 0; Id 1; Id 1; Id 1; Id 1; Id 1; Id 1; Id 1; Id 1; Id 1; \n",
       "      Id 1; Id 1; Id 1; Id 1; Id 1; Id 1; Id 1; Id 1; Id 1; Id 1; Id 1; \n",
       "      Id 1; Id 1; Id 1; Id 1; Id 1; Id 1; Id 1; Id 1; Id 1; Id 1; Id 1; \n",
       "      Id 1; Id 1; Id 1; Id 1; Id 1; Id 1; Id 1; Id 1; Id 0; Id 1; Id 1; \n",
       "      Id 1; Id 1; Id 1; Id 1; Id 1; Id 1; Id 1; Id 0; Id 1; Id 1; Id 1; \n",
       "      Id 1; Id 1; Id 1; Id 1; Id 1; Id 1; Id 0; Id 1; Id 1; Id 1; Id 1; \n",
       "      Id 0; Id 1; Id 0; Id 1; Id 1; Id 1; Id 1; Id 1; Id 1; Id 1; Id 1; \n",
       "      Id 1; Id 1; Id 0; Id 1; Id 0; Id 1; Id 1; Id 1; Id 0; Id 1; Id 1; \n",
       "      Id 1; Id 1; Id 1; Id 1; Id 1; Id 1; ...|];\n",
       "    ...|]\n"
      ]
     },
     "execution_count": 28,
     "metadata": {},
     "output_type": "execute_result"
    },
    {
     "data": {
      "text/plain": [
       "val tri_cons_of_int : int -> id = <fun>\n"
      ]
     },
     "execution_count": 28,
     "metadata": {},
     "output_type": "execute_result"
    },
    {
     "data": {
      "text/plain": [
       "val gen_m : int -> int -> id = <fun>\n"
      ]
     },
     "execution_count": 28,
     "metadata": {},
     "output_type": "execute_result"
    },
    {
     "data": {
      "text/plain": [
       "val tab_pop : int array =\n",
       "  [|-1; -1; -1; -1; -1; -1; -1; -1; -1; -1; -1; -1; -1; -1; -1; -1; -1; -1;\n",
       "    -1; -1; -1; -1; -1; -1; -1; -1; -1; -1; -1; -1; -1; -1; -1; -1; -1; -1;\n",
       "    -1; -1; -1; -1; -1; -1; -1; -1; -1; -1; -1; -1; -1; -1; -1; -1; -1; -1;\n",
       "    -1; -1; -1; -1; -1; -1; -1; -1; -1; -1; -1; -1; -1; -1; -1; -1; -1; -1;\n",
       "    -1; -1; -1; -1; -1; -1; -1; -1; -1; -1; -1; -1; -1; -1; -1; -1; -1; -1;\n",
       "    -1; -1; -1; -1; -1; -1; -1; -1; -1; -1; -1; -1; -1; -1; -1; -1; -1; -1;\n",
       "    -1; -1; -1; -1; -1; -1; -1; -1; -1; -1; -1; -1; -1; -1; -1; -1; -1; -1;\n",
       "    -1; -1; -1; -1; -1; -1; -1; -1; -1; -1; -1; -1; -1; -1; -1; -1; -1; -1;\n",
       "    -1; -1; -1; -1; -1; -1; -1; -1; -1; -1; -1; -1; -1; -1; -1; -1; -1; -1;\n",
       "    -1; -1; -1; -1; -1; -1; -1; -1; -1; -1; -1; -1; -1; -1; -1; -1; -1; -1;\n",
       "    -1; -1; -1; -1; -1; -1; -1; -1; -1; -1; -1; -1; -1; -1; -1; -1; -1; -1;\n",
       "    -1; -1; -1; -1; -1; -1; -1; -1; -1; -1; -1; -1; -1; -1; -1; -1; -1; -1;\n",
       "    -1; -1; -1; -1; -1; -1; -1; -1; -1; -1; -1; -1; -1; -1; -1; -1; -1; -1;\n",
       "    -1; -1; -1; -1; -1; -1; -1; -1; -1; -1; -1; -1; -1; -1; -1; -1; -1; -1;\n",
       "    -1; -1; -1; -1; -1; -1; -1; -1; -1; -1; -1; -1; -1; -1; -1; -1; -1; -1;\n",
       "    -1; -1; -1; -1; -1; -1; -1; -1; -1; -1; -1; -1; -1; -1; -1; -1; -1; -1;\n",
       "    -1; -1; -1; -1; -1; -1; -1; -1; -1; -1; -1; ...|]\n"
      ]
     },
     "execution_count": 28,
     "metadata": {},
     "output_type": "execute_result"
    },
    {
     "data": {
      "text/plain": [
       "val pop : id -> int = <fun>\n"
      ]
     },
     "execution_count": 28,
     "metadata": {},
     "output_type": "execute_result"
    },
    {
     "data": {
      "text/plain": [
       "val q12 : unit -> unit = <fun>\n"
      ]
     },
     "execution_count": 28,
     "metadata": {},
     "output_type": "execute_result"
    }
   ],
   "source": [
    "let tab_gen = \n",
    "    let kmax = 61 in\n",
    "    let nmax = 996 in\n",
    "    let t = Array.make_matrix (kmax + 1) (nmax + 1) invalide in\n",
    "    for n = 0 to nmax do\n",
    "        if u n mod 7 <> 0 then t.(0).(n) <- id_un\n",
    "        else t.(0).(n) <- id_zero\n",
    "    done;\n",
    "    t\n",
    "\n",
    "let rec tri_cons_of_int (n : int) : id = \n",
    "    if n = 0 then id_zero\n",
    "    else if n = 1 then id_un\n",
    "    else \n",
    "        let p = loglog n in\n",
    "        let xp = 1 lsl (1 lsl p) in\n",
    "        let g = tri_cons_of_int (n land (xp - 1)) in\n",
    "        let m = tri_cons_of_int p in\n",
    "        let d = tri_cons_of_int (n lsr (1 lsl p)) in\n",
    "        construit g m d\n",
    "\n",
    "let rec gen_m k n : id = \n",
    "    if tab_gen.(k).(n) = invalide then begin\n",
    "        let k' = max 0 (k - 1 - u n mod 2) in\n",
    "        let g = gen_m k' ((n + 1) mod 997) in\n",
    "        let p = tri_cons_of_int (v k' n) in\n",
    "        let d = gen_m k' ((n + 2) mod 997) in\n",
    "        let res = \n",
    "            if d = id_zero then g\n",
    "            else construit g p d in\n",
    "        tab_gen.(k).(n) <- res\n",
    "    end;\n",
    "    tab_gen.(k).(n)\n",
    "    \n",
    "let tab_pop = Array.make taille (-1)\n",
    "\n",
    "let rec pop (t : id) : int = \n",
    "    if tab_pop.(id t) = -1 then begin\n",
    "        let res = match get_noeud t with\n",
    "            | Zh -> 0\n",
    "            | Uh -> 1\n",
    "            | Th (g, p, d) -> pop g + pop d in\n",
    "        tab_pop.(id t) <- res\n",
    "    end;\n",
    "    tab_pop.(id t)\n",
    "        \n",
    "let q12 () = \n",
    "    let f k = \n",
    "        let t = gen_m k (37 * k mod 997) in\n",
    "        printf \"k = %d -> %d\\n\" k (pop t mod 97) in\n",
    "    List.iter f [48; 55; 61];\n",
    "    print_newline ()\n",
    "            \n",
    "        "
   ]
  },
  {
   "cell_type": "code",
   "execution_count": 29,
   "metadata": {},
   "outputs": [
    {
     "name": "stdout",
     "output_type": "stream",
     "text": [
      "k = 48 -> 28\n",
      "k = 55 -> 11\n",
      "k = 61 -> 43\n",
      "\n"
     ]
    },
    {
     "data": {
      "text/plain": [
       "- : unit = ()\n"
      ]
     },
     "execution_count": 29,
     "metadata": {},
     "output_type": "execute_result"
    }
   ],
   "source": [
    "q12 ()"
   ]
  },
  {
   "cell_type": "code",
   "execution_count": 30,
   "metadata": {},
   "outputs": [
    {
     "data": {
      "text/plain": [
       "val tab_signature : int array =\n",
       "  [|-1; -1; -1; -1; -1; -1; -1; -1; -1; -1; -1; -1; -1; -1; -1; -1; -1; -1;\n",
       "    -1; -1; -1; -1; -1; -1; -1; -1; -1; -1; -1; -1; -1; -1; -1; -1; -1; -1;\n",
       "    -1; -1; -1; -1; -1; -1; -1; -1; -1; -1; -1; -1; -1; -1; -1; -1; -1; -1;\n",
       "    -1; -1; -1; -1; -1; -1; -1; -1; -1; -1; -1; -1; -1; -1; -1; -1; -1; -1;\n",
       "    -1; -1; -1; -1; -1; -1; -1; -1; -1; -1; -1; -1; -1; -1; -1; -1; -1; -1;\n",
       "    -1; -1; -1; -1; -1; -1; -1; -1; -1; -1; -1; -1; -1; -1; -1; -1; -1; -1;\n",
       "    -1; -1; -1; -1; -1; -1; -1; -1; -1; -1; -1; -1; -1; -1; -1; -1; -1; -1;\n",
       "    -1; -1; -1; -1; -1; -1; -1; -1; -1; -1; -1; -1; -1; -1; -1; -1; -1; -1;\n",
       "    -1; -1; -1; -1; -1; -1; -1; -1; -1; -1; -1; -1; -1; -1; -1; -1; -1; -1;\n",
       "    -1; -1; -1; -1; -1; -1; -1; -1; -1; -1; -1; -1; -1; -1; -1; -1; -1; -1;\n",
       "    -1; -1; -1; -1; -1; -1; -1; -1; -1; -1; -1; -1; -1; -1; -1; -1; -1; -1;\n",
       "    -1; -1; -1; -1; -1; -1; -1; -1; -1; -1; -1; -1; -1; -1; -1; -1; -1; -1;\n",
       "    -1; -1; -1; -1; -1; -1; -1; -1; -1; -1; -1; -1; -1; -1; -1; -1; -1; -1;\n",
       "    -1; -1; -1; -1; -1; -1; -1; -1; -1; -1; -1; -1; -1; -1; -1; -1; -1; -1;\n",
       "    -1; -1; -1; -1; -1; -1; -1; -1; -1; -1; -1; -1; -1; -1; -1; -1; -1; -1;\n",
       "    -1; -1; -1; -1; -1; -1; -1; -1; -1; -1; -1; -1; -1; -1; -1; -1; -1; -1;\n",
       "    -1; -1; -1; -1; -1; -1; -1; -1; -1; -1; -1; ...|]\n"
      ]
     },
     "execution_count": 30,
     "metadata": {},
     "output_type": "execute_result"
    },
    {
     "data": {
      "text/plain": [
       "val impair : id -> bool = <fun>\n"
      ]
     },
     "execution_count": 30,
     "metadata": {},
     "output_type": "execute_result"
    },
    {
     "data": {
      "text/plain": [
       "val signature_m : id -> int = <fun>\n"
      ]
     },
     "execution_count": 30,
     "metadata": {},
     "output_type": "execute_result"
    },
    {
     "data": {
      "text/plain": [
       "val tab_dec : id array =\n",
       "  [|Id (-1); Id (-1); Id (-1); Id (-1); Id (-1); Id (-1); Id (-1); Id (-1);\n",
       "    Id (-1); Id (-1); Id (-1); Id (-1); Id (-1); Id (-1); Id (-1); Id (-1);\n",
       "    Id (-1); Id (-1); Id (-1); Id (-1); Id (-1); Id (-1); Id (-1); Id (-1);\n",
       "    Id (-1); Id (-1); Id (-1); Id (-1); Id (-1); Id (-1); Id (-1); Id (-1);\n",
       "    Id (-1); Id (-1); Id (-1); Id (-1); Id (-1); Id (-1); Id (-1); Id (-1);\n",
       "    Id (-1); Id (-1); Id (-1); Id (-1); Id (-1); Id (-1); Id (-1); Id (-1);\n",
       "    Id (-1); Id (-1); Id (-1); Id (-1); Id (-1); Id (-1); Id (-1); Id (-1);\n",
       "    Id (-1); Id (-1); Id (-1); Id (-1); Id (-1); Id (-1); Id (-1); Id (-1);\n",
       "    Id (-1); Id (-1); Id (-1); Id (-1); Id (-1); Id (-1); Id (-1); Id (-1);\n",
       "    Id (-1); Id (-1); Id (-1); Id (-1); Id (-1); Id (-1); Id (-1); Id (-1);\n",
       "    Id (-1); Id (-1); Id (-1); Id (-1); Id (-1); Id (-1); Id (-1); Id (-1);\n",
       "    Id (-1); Id (-1); Id (-1); Id (-1); Id (-1); Id (-1); Id (-1); Id (-1);\n",
       "    Id (-1); Id (-1); Id (-1); Id (-1); Id (-1); Id (-1); Id (-1); Id (-1);\n",
       "    Id (-1); Id (-1); Id (-1); Id (-1); Id (-1); Id (-1); Id (-1); Id (-1);\n",
       "    Id (-1); Id (-1); Id (-1); Id (-1); Id (-1); Id (-1); Id (-1); Id (-1);\n",
       "    Id (-1); Id (-1); Id (-1); Id (-1); Id (-1); Id (-1); Id (-1); Id (-1);\n",
       "    Id (-1); Id (-1); Id (-1); Id (-1); Id (-1); Id (-1); Id (-1); Id (-1);\n",
       "    Id (-1); Id (-1); Id (-1); Id (-1); Id (-1); Id (-1); Id (-1); Id (-1);\n",
       "    Id (-1); Id (-1); Id (-1); Id (-1); Id (-1); Id ...|]\n"
      ]
     },
     "execution_count": 30,
     "metadata": {},
     "output_type": "execute_result"
    },
    {
     "data": {
      "text/plain": [
       "val tab_x' : id array =\n",
       "  [|Id (-1); Id (-1); Id (-1); Id (-1); Id (-1); Id (-1); Id (-1); Id (-1);\n",
       "    Id (-1); Id (-1); Id (-1); Id (-1); Id (-1); Id (-1); Id (-1); Id (-1);\n",
       "    Id (-1); Id (-1); Id (-1); Id (-1); Id (-1); Id (-1); Id (-1); Id (-1);\n",
       "    Id (-1); Id (-1); Id (-1); Id (-1); Id (-1); Id (-1); Id (-1); Id (-1);\n",
       "    Id (-1); Id (-1); Id (-1); Id (-1); Id (-1); Id (-1); Id (-1); Id (-1);\n",
       "    Id (-1); Id (-1); Id (-1); Id (-1); Id (-1); Id (-1); Id (-1); Id (-1);\n",
       "    Id (-1); Id (-1); Id (-1); Id (-1); Id (-1); Id (-1); Id (-1); Id (-1);\n",
       "    Id (-1); Id (-1); Id (-1); Id (-1); Id (-1); Id (-1); Id (-1); Id (-1);\n",
       "    Id (-1); Id (-1); Id (-1); Id (-1); Id (-1); Id (-1); Id (-1); Id (-1);\n",
       "    Id (-1); Id (-1); Id (-1); Id (-1); Id (-1); Id (-1); Id (-1); Id (-1);\n",
       "    Id (-1); Id (-1); Id (-1); Id (-1); Id (-1); Id (-1); Id (-1); Id (-1);\n",
       "    Id (-1); Id (-1); Id (-1); Id (-1); Id (-1); Id (-1); Id (-1); Id (-1);\n",
       "    Id (-1); Id (-1); Id (-1); Id (-1); Id (-1); Id (-1); Id (-1); Id (-1);\n",
       "    Id (-1); Id (-1); Id (-1); Id (-1); Id (-1); Id (-1); Id (-1); Id (-1);\n",
       "    Id (-1); Id (-1); Id (-1); Id (-1); Id (-1); Id (-1); Id (-1); Id (-1);\n",
       "    Id (-1); Id (-1); Id (-1); Id (-1); Id (-1); Id (-1); Id (-1); Id (-1);\n",
       "    Id (-1); Id (-1); Id (-1); Id (-1); Id (-1); Id (-1); Id (-1); Id (-1);\n",
       "    Id (-1); Id (-1); Id (-1); Id (-1); Id (-1); Id (-1); Id (-1); Id (-1);\n",
       "    Id (-1); Id (-1); Id (-1); Id (-1); Id (-1); Id ...|]\n"
      ]
     },
     "execution_count": 30,
     "metadata": {},
     "output_type": "execute_result"
    },
    {
     "data": {
      "text/plain": [
       "val dec_m : id -> id = <fun>\n",
       "val x' : id -> id = <fun>\n"
      ]
     },
     "execution_count": 30,
     "metadata": {},
     "output_type": "execute_result"
    },
    {
     "data": {
      "text/plain": [
       "val q13 : unit -> unit = <fun>\n"
      ]
     },
     "execution_count": 30,
     "metadata": {},
     "output_type": "execute_result"
    }
   ],
   "source": [
    "let tab_signature = Array.make taille (-1)\n",
    "\n",
    "let rec impair (t : id) : bool = \n",
    "    match get_noeud t with\n",
    "    | Zh -> false\n",
    "    | Uh -> true\n",
    "    | Th (g, p, d) -> impair g\n",
    "\n",
    "let rec signature_m t = \n",
    "    if tab_signature.(id t) = -1 then begin\n",
    "        let res = \n",
    "            match get_noeud t with\n",
    "            | Zh -> 0\n",
    "            | Uh -> u 10 mod 97\n",
    "            | Th (g, p, d) -> \n",
    "                if impair p then (signature_m g + u 20 * signature_m d) mod 97\n",
    "                else (signature_m g + u 30 * signature_m d) mod 97 in\n",
    "        tab_signature.(id t) <- res\n",
    "    end;\n",
    "    tab_signature.(id t)\n",
    "\n",
    "let tab_dec = Array.make taille invalide          \n",
    "let tab_x' = Array.make taille invalide\n",
    "\n",
    "let rec dec_m t = \n",
    "    if tab_dec.(id t) = invalide then begin\n",
    "        let res = match get_noeud t with\n",
    "            | Zh -> failwith \"dec 0\"\n",
    "            | Uh -> id_zero\n",
    "            | Th (g, p, d) -> \n",
    "                if g <> id_zero then construit (dec_m g) p d\n",
    "                else if d = id_un then x' p\n",
    "                else construit (x' p) p (dec_m d) in\n",
    "        tab_dec.(id t) <- res\n",
    "    end;\n",
    "    tab_dec.(id t)\n",
    "and x' p = \n",
    "    if tab_x'.(id p) = invalide then begin\n",
    "        let res = \n",
    "            if p = id_zero then id_un\n",
    "            else \n",
    "                let q = dec_m p in\n",
    "                let q' = x' q in\n",
    "                construit q' q q' in\n",
    "        tab_x'.(id p) <- res\n",
    "    end;\n",
    "    tab_x'.(id p)\n",
    "\n",
    "let q13 () = \n",
    "    let f k = \n",
    "        let t = gen_m k (19 * k mod 997) in\n",
    "        let s = signature_m (dec_m t) in\n",
    "        printf \"k = %d -> %d\\n\" k s in\n",
    "    List.iter f [48; 55; 61];\n",
    "    print_newline ()"
   ]
  },
  {
   "cell_type": "code",
   "execution_count": 31,
   "metadata": {},
   "outputs": [
    {
     "name": "stdout",
     "output_type": "stream",
     "text": [
      "k = 48 -> 60\n",
      "k = 55 -> 9\n",
      "k = 61 -> 76\n",
      "\n"
     ]
    },
    {
     "data": {
      "text/plain": [
       "- : unit = ()\n"
      ]
     },
     "execution_count": 31,
     "metadata": {},
     "output_type": "execute_result"
    }
   ],
   "source": [
    "q13 ()"
   ]
  },
  {
   "cell_type": "markdown",
   "metadata": {},
   "source": [
    "### Question 14\n",
    "\n",
    "L'énoncé est (volontairement ?) un peu obscur. L'idée est de définir $-_p m$ comme l'unique entier inférieur à ${\\bf x}(p)$ telle que $m + (-_p m) = 0 \\pmod {\\bf x}(p)$. Ensuite, si $n = g + {\\bf x}(p) \\times d$ et $m \\leq n$, on calcule $m - n$ comme suit :\n",
    "  - on calcule $m' = -_{p + 1}m$\n",
    "  - on calcule $x = n + m'$\n",
    "  - on renvoie $x$ modulo ${\\bf x}(p + 1)$.\n",
    "  \n",
    "On donne d'abord le code le plus simple, qui permet d'obtenir la réponse à la question __14 a__. Pour le **b** et le __c__, il faut mémoïser."
   ]
  },
  {
   "cell_type": "code",
   "execution_count": 32,
   "metadata": {},
   "outputs": [
    {
     "data": {
      "text/plain": [
       "val neg : tri -> tri -> tri = <fun>\n"
      ]
     },
     "execution_count": 32,
     "metadata": {},
     "output_type": "execute_result"
    },
    {
     "data": {
      "text/plain": [
       "val mod_xp : tri -> tri -> tri = <fun>\n"
      ]
     },
     "execution_count": 32,
     "metadata": {},
     "output_type": "execute_result"
    },
    {
     "data": {
      "text/plain": [
       "val ( -- ) : tri -> tri -> tri = <fun>\n"
      ]
     },
     "execution_count": 32,
     "metadata": {},
     "output_type": "execute_result"
    },
    {
     "data": {
      "text/plain": [
       "val test_moins : int -> int -> int = <fun>\n"
      ]
     },
     "execution_count": 32,
     "metadata": {},
     "output_type": "execute_result"
    },
    {
     "data": {
      "text/plain": [
       "val q14_naif : int -> int = <fun>\n"
      ]
     },
     "execution_count": 32,
     "metadata": {},
     "output_type": "execute_result"
    }
   ],
   "source": [
    "let rec neg p = function\n",
    "    | Z -> Z\n",
    "    | U -> dec (N (Z, p, U))\n",
    "    | N (Z, p', d') when p' = dec p -> N (Z, p', neg p' d')\n",
    "    | N (g', p', d') when p' = dec p -> N (neg p' g', p', dec (neg p' d'))\n",
    "    | N (g', p', d') as t -> N (Z, dec p, U) ++ neg p (N (Z, dec p, U) ++ t)\n",
    "\n",
    "let rec mod_xp p = function\n",
    "    | Z -> Z\n",
    "    | U -> U\n",
    "    | N (g, p', d) as t ->\n",
    "        if compare p p' = 0 then g\n",
    "        else if compare p p' = 1 then t\n",
    "        else mod_xp p g\n",
    "        \n",
    "let (--) t t' = \n",
    "    match t, t' with \n",
    "    | _, Z -> t\n",
    "    | Z, _ -> failwith \"-- : t < t'\"\n",
    "    | _, U -> dec t\n",
    "    | U, _ -> failwith \"-- : t < t'\"\n",
    "    | N (g, p, d), _ ->\n",
    "        let t'' = neg (inc p) t' in\n",
    "        mod_xp (inc p) (t ++ t'')\n",
    "        \n",
    "let test_moins n p = \n",
    "    int_of_tri (tri_of_int n -- tri_of_int p)\n",
    "    \n",
    "let q14_naif k = \n",
    "    let t = gen (k + 2) (41 * k mod 997) in\n",
    "    let t' = gen k (43 * k mod 997) in\n",
    "    signature (t -- t')"
   ]
  },
  {
   "cell_type": "code",
   "execution_count": 33,
   "metadata": {},
   "outputs": [
    {
     "data": {
      "text/plain": [
       "- : int = 22\n"
      ]
     },
     "execution_count": 33,
     "metadata": {},
     "output_type": "execute_result"
    }
   ],
   "source": [
    "q14_naif 2"
   ]
  },
  {
   "cell_type": "markdown",
   "metadata": {},
   "source": [
    "Voilà la version mémoïsée, *légèrment* pénible puisqu'on a essentiellement tout ré-écrit. On pouvait sûrement se contenter de moins, mais en tout cas on obtient la réponse instantanément !"
   ]
  },
  {
   "cell_type": "code",
   "execution_count": 34,
   "metadata": {},
   "outputs": [
    {
     "data": {
      "text/plain": [
       "val compare_m : id -> id -> int = <fun>\n"
      ]
     },
     "execution_count": 34,
     "metadata": {},
     "output_type": "execute_result"
    },
    {
     "data": {
      "text/plain": [
       "val tab_inc : id array =\n",
       "  [|Id (-1); Id (-1); Id (-1); Id (-1); Id (-1); Id (-1); Id (-1); Id (-1);\n",
       "    Id (-1); Id (-1); Id (-1); Id (-1); Id (-1); Id (-1); Id (-1); Id (-1);\n",
       "    Id (-1); Id (-1); Id (-1); Id (-1); Id (-1); Id (-1); Id (-1); Id (-1);\n",
       "    Id (-1); Id (-1); Id (-1); Id (-1); Id (-1); Id (-1); Id (-1); Id (-1);\n",
       "    Id (-1); Id (-1); Id (-1); Id (-1); Id (-1); Id (-1); Id (-1); Id (-1);\n",
       "    Id (-1); Id (-1); Id (-1); Id (-1); Id (-1); Id (-1); Id (-1); Id (-1);\n",
       "    Id (-1); Id (-1); Id (-1); Id (-1); Id (-1); Id (-1); Id (-1); Id (-1);\n",
       "    Id (-1); Id (-1); Id (-1); Id (-1); Id (-1); Id (-1); Id (-1); Id (-1);\n",
       "    Id (-1); Id (-1); Id (-1); Id (-1); Id (-1); Id (-1); Id (-1); Id (-1);\n",
       "    Id (-1); Id (-1); Id (-1); Id (-1); Id (-1); Id (-1); Id (-1); Id (-1);\n",
       "    Id (-1); Id (-1); Id (-1); Id (-1); Id (-1); Id (-1); Id (-1); Id (-1);\n",
       "    Id (-1); Id (-1); Id (-1); Id (-1); Id (-1); Id (-1); Id (-1); Id (-1);\n",
       "    Id (-1); Id (-1); Id (-1); Id (-1); Id (-1); Id (-1); Id (-1); Id (-1);\n",
       "    Id (-1); Id (-1); Id (-1); Id (-1); Id (-1); Id (-1); Id (-1); Id (-1);\n",
       "    Id (-1); Id (-1); Id (-1); Id (-1); Id (-1); Id (-1); Id (-1); Id (-1);\n",
       "    Id (-1); Id (-1); Id (-1); Id (-1); Id (-1); Id (-1); Id (-1); Id (-1);\n",
       "    Id (-1); Id (-1); Id (-1); Id (-1); Id (-1); Id (-1); Id (-1); Id (-1);\n",
       "    Id (-1); Id (-1); Id (-1); Id (-1); Id (-1); Id (-1); Id (-1); Id (-1);\n",
       "    Id (-1); Id (-1); Id (-1); Id (-1); Id (-1); Id ...|]\n"
      ]
     },
     "execution_count": 34,
     "metadata": {},
     "output_type": "execute_result"
    },
    {
     "data": {
      "text/plain": [
       "val inc_m : id -> id = <fun>\n"
      ]
     },
     "execution_count": 34,
     "metadata": {},
     "output_type": "execute_result"
    },
    {
     "data": {
      "text/plain": [
       "val tab_plus : ('_weak3, '_weak4) Hashtbl.t = <abstr>\n"
      ]
     },
     "execution_count": 34,
     "metadata": {},
     "output_type": "execute_result"
    },
    {
     "data": {
      "text/plain": [
       "val ( +++ ) : id -> id -> id = <fun>\n",
       "val norm_m : id * id * id -> id = <fun>\n",
       "val normd_m : id * id * id -> id = <fun>\n"
      ]
     },
     "execution_count": 34,
     "metadata": {},
     "output_type": "execute_result"
    },
    {
     "data": {
      "text/plain": [
       "val tab_neg : ('_weak5, '_weak6) Hashtbl.t = <abstr>\n"
      ]
     },
     "execution_count": 34,
     "metadata": {},
     "output_type": "execute_result"
    },
    {
     "data": {
      "text/plain": [
       "val neg_m : id -> id -> id = <fun>\n"
      ]
     },
     "execution_count": 34,
     "metadata": {},
     "output_type": "execute_result"
    },
    {
     "data": {
      "text/plain": [
       "val mod_xp_m : id -> id -> id = <fun>\n"
      ]
     },
     "execution_count": 34,
     "metadata": {},
     "output_type": "execute_result"
    },
    {
     "data": {
      "text/plain": [
       "val ( --- ) : id -> id -> id = <fun>\n"
      ]
     },
     "execution_count": 34,
     "metadata": {},
     "output_type": "execute_result"
    },
    {
     "data": {
      "text/plain": [
       "val int_of_tri_cons : id -> int = <fun>\n"
      ]
     },
     "execution_count": 34,
     "metadata": {},
     "output_type": "execute_result"
    },
    {
     "data": {
      "text/plain": [
       "val teste_plus_m : int -> int -> int = <fun>\n"
      ]
     },
     "execution_count": 34,
     "metadata": {},
     "output_type": "execute_result"
    },
    {
     "data": {
      "text/plain": [
       "val teste_moins_m : int -> int -> int = <fun>\n"
      ]
     },
     "execution_count": 34,
     "metadata": {},
     "output_type": "execute_result"
    },
    {
     "data": {
      "text/plain": [
       "val q14 : unit -> unit = <fun>\n"
      ]
     },
     "execution_count": 34,
     "metadata": {},
     "output_type": "execute_result"
    }
   ],
   "source": [
    "let rec compare_m t t' = \n",
    "    if t = t' then 0\n",
    "    else match get_noeud t, get_noeud t' with\n",
    "    | Zh, _ -> -1\n",
    "    | _, Zh -> 1\n",
    "    | Uh, _ -> -1\n",
    "    | _, Uh -> 1\n",
    "    | Th (g, p, d), Th (g', p', d') ->\n",
    "        let x = compare_m p p' in \n",
    "        if x < 0 then -1\n",
    "        else if x > 0 then 1\n",
    "        else let y = compare_m d d' in\n",
    "            if y < 0 then -1\n",
    "            else if y > 0 then 1\n",
    "            else compare_m g g'\n",
    "  \n",
    "let tab_inc = Array.make taille invalide\n",
    "let rec inc_m t = \n",
    "    if tab_inc.(id t) = invalide then begin\n",
    "        let res = match get_noeud t with\n",
    "            | Zh -> id_un\n",
    "            | Uh -> construit id_zero id_zero id_un\n",
    "            | Th (g, p, d) ->\n",
    "                let g' = inc_m g in\n",
    "                if g' <> construit id_zero p id_un then \n",
    "                    construit g' p d\n",
    "                else\n",
    "                    let d' = inc_m d in\n",
    "                    if d' <> construit id_zero p id_un then\n",
    "                        construit id_zero p d'\n",
    "                    else\n",
    "                        construit id_zero (inc_m p) id_un in\n",
    "        tab_inc.(id t) <- res\n",
    "    end;\n",
    "    tab_inc.(id t)\n",
    "                      \n",
    "let tab_plus = Hashtbl.create taille                  \n",
    "let rec (+++) t t' = \n",
    "    try \n",
    "        Hashtbl.find tab_plus (t, t')\n",
    "    with\n",
    "    | Not_found ->\n",
    "        let res = match get_noeud t, get_noeud t' with\n",
    "        | Zh, _  -> t'\n",
    "        | _, Zh -> t\n",
    "        | Uh, _ -> inc_m t'\n",
    "        | _, Uh -> inc_m t\n",
    "        | Th (g, p, d), Th (g', p', d') ->\n",
    "            if p = p' then norm_m (g +++ g', p, d +++ d')\n",
    "            else if compare_m p p' = 1 then norm_m (g +++ t', p, d)\n",
    "            else norm_m (g' +++ t, p', d') in\n",
    "        Hashtbl.add tab_plus (t, t') res;\n",
    "        res\n",
    "and norm_m (g, p, d) =\n",
    "    match get_noeud g with\n",
    "    | Th (gg, gp, gd) ->\n",
    "        let x = compare_m gp p in\n",
    "        if x = -1 then normd_m (g, p, d)\n",
    "        else if x = 0 then normd_m (gg, p, gd +++ d)\n",
    "        else norm_m (norm_m (gg, p, d), gp, gd)\n",
    "    | _ -> normd_m (g, p, d)\n",
    "and normd_m (g, p, d) = \n",
    "    match get_noeud d with\n",
    "    | Th (dg, dp, dd) ->\n",
    "        let x = compare_m dp p in\n",
    "        if x = -1 then construit g p (construit dg dp dd)\n",
    "        else if x = 0 then construit (normd_m (g, p, dg)) (inc_m p) dd\n",
    "        else norm_m (normd_m (g, p, dg), dp, normd_m (id_zero, p, dd))\n",
    "    | Zh -> g\n",
    "    | Uh -> construit g p id_un               \n",
    "\n",
    "let tab_neg = Hashtbl.create taille\n",
    "\n",
    "let rec neg_m p t' = \n",
    "    try \n",
    "        Hashtbl.find tab_neg (p, t')\n",
    "    with\n",
    "    | Not_found ->\n",
    "        let res = match get_noeud t' with\n",
    "            | Zh -> id_zero\n",
    "            | Uh -> dec_m (construit id_zero p id_un)\n",
    "            | Th (g', p', d') when p' = dec_m p -> \n",
    "                if g' = id_zero then construit id_zero p' (neg_m p' d')\n",
    "                else construit (neg_m p' g') p' (dec_m (neg_m p' d'))\n",
    "            | _ -> \n",
    "                let x = construit id_zero (dec_m p) id_un in\n",
    "                x +++ neg_m p (x +++ t') in\n",
    "        Hashtbl.add tab_neg (p, t') res;\n",
    "        res\n",
    "\n",
    "\n",
    "let rec mod_xp_m p t = \n",
    "    match get_noeud t with\n",
    "    | Zh -> id_zero\n",
    "    | Uh -> id_un\n",
    "    | Th (g', p', d') ->\n",
    "        if p = p' then g'\n",
    "        else if compare_m p p' < 0 then mod_xp_m p g'\n",
    "        else t\n",
    "    \n",
    "let ( --- ) t t' = \n",
    "    match get_noeud t, get_noeud t' with\n",
    "    | _, Zh -> t\n",
    "    | Zh, _ -> failwith \"-- : t < t'\"\n",
    "    | _, Uh -> dec_m t\n",
    "    | Uh, _ -> failwith \"-- : t < t'\"\n",
    "    | Th (g, p, d), _ -> \n",
    "        let t'' = neg_m (inc_m p) t' in\n",
    "        mod_xp_m (inc_m p) (t +++ t'')\n",
    "        \n",
    "let rec int_of_tri_cons t = \n",
    "    match get_noeud t with\n",
    "    | Zh -> 0\n",
    "    | Uh -> 1\n",
    "    | Th (g, p, d) ->\n",
    "        let xg = int_of_tri_cons g in\n",
    "        let xp = int_of_tri_cons p in\n",
    "        let xd = int_of_tri_cons d in\n",
    "        xg + (1 lsl (1 lsl xp)) * xd\n",
    "\n",
    "let teste_plus_m a b =\n",
    "    let t = tri_cons_of_int a in\n",
    "    let t' = tri_cons_of_int b in\n",
    "    int_of_tri_cons (t +++ t')\n",
    "\n",
    "let teste_moins_m a b =\n",
    "    let t = tri_cons_of_int a in\n",
    "    let t' = tri_cons_of_int b in\n",
    "    int_of_tri_cons (t --- t')\n",
    "    \n",
    "    \n",
    "let q14 () = \n",
    "    let f k = \n",
    "        let t = gen_m (k + 2) ((41 * k) mod 997) in\n",
    "        let t' = gen_m k ((43 * k) mod 997) in\n",
    "        let s = signature_m (t --- t') in\n",
    "        printf \"Pour k = %d : %d\\n\" k s in\n",
    "    List.iter f [2; 6; 8];\n",
    "    print_newline ()\n",
    "    "
   ]
  },
  {
   "cell_type": "code",
   "execution_count": 35,
   "metadata": {},
   "outputs": [
    {
     "data": {
      "text/plain": [
       "- : unit = ()\n"
      ]
     },
     "execution_count": 35,
     "metadata": {},
     "output_type": "execute_result"
    }
   ],
   "source": [
    "for a = 0 to 500 do\n",
    "    for b = 0 to a do\n",
    "        assert (teste_plus_m a b = a + b);\n",
    "        assert (teste_moins_m a b = a - b)\n",
    "    done\n",
    "done"
   ]
  },
  {
   "cell_type": "code",
   "execution_count": 36,
   "metadata": {},
   "outputs": [
    {
     "name": "stdout",
     "output_type": "stream",
     "text": [
      "Pour k = 2 : 22\n",
      "Pour k = 6 : 52\n",
      "Pour k = 8 : 82\n",
      "\n"
     ]
    },
    {
     "data": {
      "text/plain": [
       "- : unit = ()\n"
      ]
     },
     "execution_count": 36,
     "metadata": {},
     "output_type": "execute_result"
    }
   ],
   "source": [
    "q14 ()"
   ]
  },
  {
   "cell_type": "code",
   "execution_count": 37,
   "metadata": {},
   "outputs": [
    {
     "data": {
      "text/plain": [
       "- : int = 19476\n"
      ]
     },
     "execution_count": 37,
     "metadata": {},
     "output_type": "execute_result"
    }
   ],
   "source": [
    "!next"
   ]
  },
  {
   "cell_type": "code",
   "execution_count": null,
   "metadata": {},
   "outputs": [],
   "source": []
  }
 ],
 "metadata": {
  "kernelspec": {
   "display_name": "OCaml default",
   "language": "OCaml",
   "name": "ocaml-jupyter"
  },
  "language_info": {
   "codemirror_mode": "text/x-ocaml",
   "file_extension": ".ml",
   "mimetype": "text/x-ocaml",
   "name": "OCaml",
   "nbconverter_exporter": null,
   "pygments_lexer": "OCaml",
   "version": "4.07.1"
  }
 },
 "nbformat": 4,
 "nbformat_minor": 2
}
